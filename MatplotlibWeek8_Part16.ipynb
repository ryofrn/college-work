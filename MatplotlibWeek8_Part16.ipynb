{
 "cells": [
  {
   "attachments": {},
   "cell_type": "markdown",
   "metadata": {
    "id": "ULe2ZwaJzeX3"
   },
   "source": [
    "# **Matplotlib Week 8**"
   ]
  },
  {
   "attachments": {},
   "cell_type": "markdown",
   "metadata": {
    "id": "OokysEWpz1Dd"
   },
   "source": [
    "## Matplotlib 16 : Alur Hidup Plot | Plot Lifecycle"
   ]
  },
  {
   "cell_type": "markdown",
   "metadata": {
    "id": "EvQpyqz-zv5u"
   },
   "source": [
    "### Import modules"
   ]
  },
  {
   "cell_type": "code",
   "execution_count": 1,
   "metadata": {
    "id": "03cE6m3Lzdvt"
   },
   "outputs": [],
   "source": [
    "# Magic command\n",
    "%matplotlib inline"
   ]
  },
  {
   "cell_type": "code",
   "execution_count": 2,
   "metadata": {
    "colab": {
     "base_uri": "https://localhost:8080/"
    },
    "id": "bdCstdRpz5sg",
    "outputId": "d9c13730-9f42-4d41-ecb2-f6a3731e9988"
   },
   "outputs": [
    {
     "name": "stdout",
     "output_type": "stream",
     "text": [
      "3.4.3\n",
      "1.20.3\n"
     ]
    }
   ],
   "source": [
    "import matplotlib\n",
    "import matplotlib.pyplot as plt\n",
    "import numpy as np\n",
    "\n",
    "# Cek versi\n",
    "print(matplotlib.__version__)\n",
    "print(np.__version__)"
   ]
  },
  {
   "cell_type": "markdown",
   "metadata": {
    "id": "MFUtjOLbz7Oh"
   },
   "source": [
    "### Sample Dataset"
   ]
  },
  {
   "cell_type": "markdown",
   "metadata": {
    "id": "xe7YDkMdz9Ie"
   },
   "source": [
    "- Membuat dataset menggunakan dictionary yang berisikan 10 buah data dan ditampung dalam variabel data."
   ]
  },
  {
   "cell_type": "code",
   "execution_count": 3,
   "metadata": {
    "colab": {
     "base_uri": "https://localhost:8080/"
    },
    "id": "8fP1I8Ua0Bl4",
    "outputId": "99b66a81-622f-47cd-83fd-df7579c1dff5"
   },
   "outputs": [
    {
     "data": {
      "text/plain": [
       "{'Item A': 109438,\n",
       " 'Item B': 103569,\n",
       " 'Item C': 112214,\n",
       " 'Item D': 112591,\n",
       " 'Item E': 100934,\n",
       " 'Item F': 103660,\n",
       " 'Item G': 137351,\n",
       " 'Item H': 123381,\n",
       " 'Item I': 135841,\n",
       " 'Item J': 104437}"
      ]
     },
     "execution_count": 3,
     "metadata": {},
     "output_type": "execute_result"
    }
   ],
   "source": [
    "data = {'Item A': 109438,\n",
    "        'Item B': 103569,\n",
    "        'Item C': 112214,\n",
    "        'Item D': 112591,\n",
    "        'Item E': 100934,\n",
    "        'Item F': 103660,\n",
    "        'Item G': 137351,\n",
    "        'Item H': 123381,\n",
    "        'Item I': 135841,\n",
    "        'Item J': 104437}\n",
    "\n",
    "data"
   ]
  },
  {
   "cell_type": "markdown",
   "metadata": {
    "id": "RZnK-NDV0D8B"
   },
   "source": [
    "- Ekstrak keys dari dictionary dan tampung dalam suatu tuple dengan nama variabel items."
   ]
  },
  {
   "cell_type": "code",
   "execution_count": 4,
   "metadata": {
    "colab": {
     "base_uri": "https://localhost:8080/"
    },
    "id": "avEh0kR70Hzf",
    "outputId": "1af27105-2c15-4d17-9f77-f5d2e624fc24"
   },
   "outputs": [
    {
     "data": {
      "text/plain": [
       "('Item A',\n",
       " 'Item B',\n",
       " 'Item C',\n",
       " 'Item D',\n",
       " 'Item E',\n",
       " 'Item F',\n",
       " 'Item G',\n",
       " 'Item H',\n",
       " 'Item I',\n",
       " 'Item J')"
      ]
     },
     "execution_count": 4,
     "metadata": {},
     "output_type": "execute_result"
    }
   ],
   "source": [
    "items = tuple(data.keys())\n",
    "items"
   ]
  },
  {
   "cell_type": "markdown",
   "metadata": {
    "id": "1D2q7bEv0LKW"
   },
   "source": [
    "- Ekstrak values dari dictionary dan tampung dalam suatu tuple dengan nama variabel count."
   ]
  },
  {
   "cell_type": "code",
   "execution_count": 5,
   "metadata": {
    "colab": {
     "base_uri": "https://localhost:8080/"
    },
    "id": "zD2k7crw0NYp",
    "outputId": "d56b346c-0dd9-43b9-fa69-6f18b6d7c758"
   },
   "outputs": [
    {
     "data": {
      "text/plain": [
       "(109438,\n",
       " 103569,\n",
       " 112214,\n",
       " 112591,\n",
       " 100934,\n",
       " 103660,\n",
       " 137351,\n",
       " 123381,\n",
       " 135841,\n",
       " 104437)"
      ]
     },
     "execution_count": 5,
     "metadata": {},
     "output_type": "execute_result"
    }
   ],
   "source": [
    "count = tuple(data.values())\n",
    "count"
   ]
  },
  {
   "cell_type": "markdown",
   "metadata": {
    "id": "46IwHULX0Po2"
   },
   "source": [
    "### Simple Plot"
   ]
  },
  {
   "cell_type": "markdown",
   "metadata": {
    "id": "IpDvwJUD0U-x"
   },
   "source": [
    "- Plotting dataset kedalam bentuk bar secara horizontal menggunakan pendekatan OO-Style."
   ]
  },
  {
   "cell_type": "code",
   "execution_count": 6,
   "metadata": {
    "colab": {
     "base_uri": "https://localhost:8080/",
     "height": 265
    },
    "id": "sAME1nK10Yu_",
    "outputId": "01ad31a6-d5a9-4607-d863-014329494db3"
   },
   "outputs": [
    {
     "data": {
      "image/png": "[encoded data removed]",
      "text/plain": [
       "<Figure size 432x288 with 1 Axes>"
      ]
     },
     "metadata": {
      "needs_background": "light"
     },
     "output_type": "display_data"
    }
   ],
   "source": [
    "fig, ax = plt.subplots()\n",
    "\n",
    "ax.barh(items, count)\n",
    "\n",
    "plt.show()"
   ]
  },
  {
   "cell_type": "markdown",
   "metadata": {
    "id": "atcjKLqA0a97"
   },
   "source": [
    "### **Pengaturan Style**"
   ]
  },
  {
   "cell_type": "markdown",
   "metadata": {
    "id": "I0QZR27h0gCf"
   },
   "source": [
    "- Untuk mengetahui style apa saja yang tersedia dari fungsi matplotlib kita bisa memanggil fungsi plt.style.available.\n",
    "- Untuk menggunakan style yang diinginkan kita dapat memanggil fungsi plt.style.use()."
   ]
  },
  {
   "cell_type": "code",
   "execution_count": 7,
   "metadata": {
    "colab": {
     "base_uri": "https://localhost:8080/"
    },
    "id": "NPNteqKl0i6W",
    "outputId": "aa04fc66-cc19-484e-e6e9-2c11b0739380"
   },
   "outputs": [
    {
     "data": {
      "text/plain": [
       "['Solarize_Light2',\n",
       " '_classic_test_patch',\n",
       " 'bmh',\n",
       " 'classic',\n",
       " 'dark_background',\n",
       " 'fast',\n",
       " 'fivethirtyeight',\n",
       " 'ggplot',\n",
       " 'grayscale',\n",
       " 'seaborn',\n",
       " 'seaborn-bright',\n",
       " 'seaborn-colorblind',\n",
       " 'seaborn-dark',\n",
       " 'seaborn-dark-palette',\n",
       " 'seaborn-darkgrid',\n",
       " 'seaborn-deep',\n",
       " 'seaborn-muted',\n",
       " 'seaborn-notebook',\n",
       " 'seaborn-paper',\n",
       " 'seaborn-pastel',\n",
       " 'seaborn-poster',\n",
       " 'seaborn-talk',\n",
       " 'seaborn-ticks',\n",
       " 'seaborn-white',\n",
       " 'seaborn-whitegrid',\n",
       " 'tableau-colorblind10']"
      ]
     },
     "execution_count": 7,
     "metadata": {},
     "output_type": "execute_result"
    }
   ],
   "source": [
    "plt.style.available"
   ]
  },
  {
   "cell_type": "code",
   "execution_count": 8,
   "metadata": {
    "colab": {
     "base_uri": "https://localhost:8080/",
     "height": 265
    },
    "id": "KTw9I-a90kaA",
    "outputId": "d37f8ffc-b49b-49fc-887e-eed2bfa0e906"
   },
   "outputs": [
    {
     "data": {
      "image/png": "[encoded data removed]",
      "text/plain": [
       "<Figure size 432x288 with 1 Axes>"
      ]
     },
     "metadata": {},
     "output_type": "display_data"
    }
   ],
   "source": [
    "plt.style.use('grayscale')\n",
    "\n",
    "fig, ax = plt.subplots()\n",
    "ax.barh(items, count)\n",
    "plt.show()"
   ]
  },
  {
   "cell_type": "markdown",
   "metadata": {
    "id": "X_TYlcvN0mV2"
   },
   "source": [
    "# **Pengaturan Tick Label**"
   ]
  },
  {
   "cell_type": "markdown",
   "metadata": {
    "id": "DfvmnFMk0ocq"
   },
   "source": [
    "- Untuk menangkap objects dari ticks label kita bisa memanggil ax.get_xticklabels().\n",
    "- Pemanggilan method tersebut digunakan untuk mendapatkan akses terhadap objek dari tick label yang berada pada sumbu x.\n",
    "- Fungsi plt.setp() digunakan untuk mengatur properties; setp merupakan kependekan dari set properties.\n",
    "- Parameter pertama fungsi plt.setp() digunakan untuk mendefinisikan objek yang mau kita atur properties-nya.\n",
    "- Parameter selanjutnya bersifat opsional."
   ]
  },
  {
   "cell_type": "code",
   "execution_count": 9,
   "metadata": {
    "colab": {
     "base_uri": "https://localhost:8080/",
     "height": 289
    },
    "id": "bEd-Xyze053S",
    "outputId": "cd04cc66-93cd-49eb-8cc0-31d90be6d994"
   },
   "outputs": [
    {
     "data": {
      "image/png": "[encoded data removed]",
      "text/plain": [
       "<Figure size 432x288 with 1 Axes>"
      ]
     },
     "metadata": {},
     "output_type": "display_data"
    }
   ],
   "source": [
    "fig, ax = plt.subplots()\n",
    "ax.barh(items, count)\n",
    "\n",
    "labels = ax.get_xticklabels()\n",
    "\n",
    "# pengaturan properties\n",
    "plt.setp(labels,\n",
    "         rotation=45,\n",
    "         horizontalalignment='right')\n",
    "\n",
    "plt.show()"
   ]
  },
  {
   "cell_type": "markdown",
   "metadata": {
    "id": "Vd5Gm5XY08fT"
   },
   "source": [
    "### **Pengaturan Format pada Ticker**"
   ]
  },
  {
   "cell_type": "markdown",
   "metadata": {
    "id": "HQlZXYeU0_Go"
   },
   "source": [
    "- Untuk melakukan format pada ticker kita perlu meng-import suatu module FuncFormatter dari matplotlib.ticker.\n",
    "- Pertama, kita perlu membangun suatu objek FuncFormatter().\n",
    "- Kemudian, untuk menerapkan formatter pada sumbu x kita dapat memanggil fungsi ax.xaxis.set_major_formatter."
   ]
  },
  {
   "cell_type": "code",
   "execution_count": 10,
   "metadata": {
    "id": "oxovwgBw1DSd"
   },
   "outputs": [],
   "source": [
    "from matplotlib.ticker import FuncFormatter"
   ]
  },
  {
   "cell_type": "code",
   "execution_count": 11,
   "metadata": {
    "id": "OCA_TBFY1E3w"
   },
   "outputs": [],
   "source": [
    "# Memmbuat fungsi yang mengkonversi ribuan menjadi huruf 'k'\n",
    "def ribuan(x, pos):\n",
    "    return f'{int(x/1000)}K'"
   ]
  },
  {
   "cell_type": "code",
   "execution_count": 12,
   "metadata": {
    "colab": {
     "base_uri": "https://localhost:8080/",
     "height": 295
    },
    "id": "SVrVSpqY1FBy",
    "outputId": "0d0f53f1-7086-48e0-b121-d0c61959493a"
   },
   "outputs": [
    {
     "data": {
      "image/png": "[encoded data removed]",
      "text/plain": [
       "<Figure size 432x288 with 1 Axes>"
      ]
     },
     "metadata": {},
     "output_type": "display_data"
    }
   ],
   "source": [
    "fig, ax = plt.subplots()\n",
    "ax.barh(items, count)\n",
    "\n",
    "formatter = FuncFormatter(ribuan)\n",
    "ax.xaxis.set_major_formatter(formatter)\n",
    "\n",
    "ax.set(title='Contoh Plot', \n",
    "       xlabel='Jumlah', \n",
    "       ylabel='Items')\n",
    "\n",
    "plt.show()"
   ]
  },
  {
   "cell_type": "markdown",
   "metadata": {
    "id": "m05_a1RY1Jz1"
   },
   "source": [
    "### Pengaturan Label pada Sumbu (axis) dan Judul (title)"
   ]
  },
  {
   "cell_type": "code",
   "execution_count": 13,
   "metadata": {
    "colab": {
     "base_uri": "https://localhost:8080/",
     "height": 295
    },
    "id": "Ku2yK9Yj1Mlx",
    "outputId": "61f3a961-1716-441c-fa60-1b97df130158"
   },
   "outputs": [
    {
     "data": {
      "image/png": "[encoded data removed]",
      "text/plain": [
       "<Figure size 432x288 with 1 Axes>"
      ]
     },
     "metadata": {},
     "output_type": "display_data"
    }
   ],
   "source": [
    "fig, ax = plt.subplots()\n",
    "ax.barh(items, count)\n",
    "\n",
    "ax.set(title='Contoh Plot', \n",
    "       xlabel='Jumlah', \n",
    "       ylabel='Items')\n",
    "\n",
    "plt.show()\n"
   ]
  },
  {
   "cell_type": "markdown",
   "metadata": {
    "id": "fSwds7pL1OGw"
   },
   "source": [
    "### Penambahan Garis (vertical/horisontal line) pada Plot"
   ]
  },
  {
   "cell_type": "markdown",
   "metadata": {
    "id": "NX1rvt9M1Qmw"
   },
   "source": [
    "- Fungsi ax.axvline() digunakan untuk memunculkan garis vertikal pada axes.\n",
    "- Parameter pertama fungsi tersebut digunakan untuk menentukan posisi garisnya.\n",
    "- Parameter kedua fungsi tersebut digunakan untuk mengatur line style.\n",
    "- Parameter ketiga fungsi tersebut digunakan untuk mengganti warna garis."
   ]
  },
  {
   "cell_type": "code",
   "execution_count": 14,
   "metadata": {
    "colab": {
     "base_uri": "https://localhost:8080/",
     "height": 295
    },
    "id": "sol5u3SM1Up5",
    "outputId": "3999bcd8-bc45-4696-a0fa-27aa0e324d4c"
   },
   "outputs": [
    {
     "data": {
      "image/png": "[encoded data removed]",
      "text/plain": [
       "<Figure size 432x288 with 1 Axes>"
      ]
     },
     "metadata": {},
     "output_type": "display_data"
    }
   ],
   "source": [
    "fig, ax = plt.subplots()\n",
    "ax.barh(items, count)\n",
    "\n",
    "ax.axvline(np.mean(count), \n",
    "           ls='--', \n",
    "           color='r')\n",
    "\n",
    "ax.set(title='Contoh Plot', \n",
    "       xlabel='Jumlah', \n",
    "       ylabel='Items')\n",
    "\n",
    "plt.show()"
   ]
  },
  {
   "cell_type": "markdown",
   "metadata": {
    "id": "xkAMYmM21Wn7"
   },
   "source": [
    "### Menyimpan Hasil Plot Ke dalam Suatu File"
   ]
  },
  {
   "cell_type": "markdown",
   "metadata": {
    "id": "589Hu4vb1ZjQ"
   },
   "source": [
    "- Untuk melihat tipe file apa saja yang didukung oleh matplotlib kita bisa memanggil fungsi fig.canvas.get_supported_filetypes().\n",
    "- Untuk menyimpan filenya kita bisa menggunakan fungsi fig.savefig().\n",
    "- Parameter pertama yang harus disertakan adalah menentukan nama file.\n",
    "- Parameter selanjutnya bersifat opsional, seperti tranparansi dan dpi.\n",
    "- Hasil plot tersebut akan disimpan dalam directory yang sama dengan file ipynb ini."
   ]
  },
  {
   "cell_type": "code",
   "execution_count": 15,
   "metadata": {
    "colab": {
     "base_uri": "https://localhost:8080/"
    },
    "id": "0EX6v7tL1ZO0",
    "outputId": "c59c4b17-5e3f-4d83-c041-017776d3b67b"
   },
   "outputs": [
    {
     "data": {
      "text/plain": [
       "{'eps': 'Encapsulated Postscript',\n",
       " 'jpg': 'Joint Photographic Experts Group',\n",
       " 'jpeg': 'Joint Photographic Experts Group',\n",
       " 'pdf': 'Portable Document Format',\n",
       " 'pgf': 'PGF code for LaTeX',\n",
       " 'png': 'Portable Network Graphics',\n",
       " 'ps': 'Postscript',\n",
       " 'raw': 'Raw RGBA bitmap',\n",
       " 'rgba': 'Raw RGBA bitmap',\n",
       " 'svg': 'Scalable Vector Graphics',\n",
       " 'svgz': 'Scalable Vector Graphics',\n",
       " 'tif': 'Tagged Image File Format',\n",
       " 'tiff': 'Tagged Image File Format'}"
      ]
     },
     "execution_count": 15,
     "metadata": {},
     "output_type": "execute_result"
    }
   ],
   "source": [
    "fig.canvas.get_supported_filetypes()"
   ]
  },
  {
   "cell_type": "code",
   "execution_count": 16,
   "metadata": {
    "colab": {
     "base_uri": "https://localhost:8080/",
     "height": 295
    },
    "id": "ATlJvf1d1h-B",
    "outputId": "244901c1-43df-433f-9665-60c68a98df8f"
   },
   "outputs": [
    {
     "data": {
      "image/png": "[encoded data removed]",
      "text/plain": [
       "<Figure size 432x288 with 1 Axes>"
      ]
     },
     "metadata": {},
     "output_type": "display_data"
    }
   ],
   "source": [
    "fig, ax = plt.subplots()\n",
    "ax.barh(items, count)\n",
    "\n",
    "ax.axvline(np.mean(count),\n",
    "           ls='--',\n",
    "           color='r')\n",
    "\n",
    "ax.set(title='Contoh Plot',\n",
    "       xlabel='Jumlah',\n",
    "       ylabel='Items')\n",
    "\n",
    "fig.savefig('Sales.png',\n",
    "            transparent=True,\n",
    "            dpi=80)"
   ]
  }
 ],
 "metadata": {
  "colab": {
   "provenance": []
  },
  "kernelspec": {
   "display_name": "Python 3 (ipykernel)",
   "language": "python",
   "name": "python3"
  },
  "language_info": {
   "codemirror_mode": {
    "name": "ipython",
    "version": 3
   },
   "file_extension": ".py",
   "mimetype": "text/x-python",
   "name": "python",
   "nbconvert_exporter": "python",
   "pygments_lexer": "ipython3",
   "version": "3.9.7"
  }
 },
 "nbformat": 4,
 "nbformat_minor": 1
}
