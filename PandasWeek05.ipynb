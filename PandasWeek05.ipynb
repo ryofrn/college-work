{
 "cells": [
  {
   "attachments": {},
   "cell_type": "markdown",
   "metadata": {
    "id": "PeWNQGmuWD7n"
   },
   "source": [
    "# **Pandas  Week 05**"
   ]
  },
  {
   "attachments": {},
   "cell_type": "markdown",
   "metadata": {
    "id": "8dBzaTBZWKJ0"
   },
   "source": [
    "# **#17 Resampling pada Data Deret Waktu (time series data)**"
   ]
  },
  {
   "cell_type": "markdown",
   "metadata": {
    "id": "Gc6EQpJLWSAm"
   },
   "source": [
    "# Import Modules"
   ]
  },
  {
   "cell_type": "code",
   "execution_count": 2,
   "metadata": {
    "colab": {
     "base_uri": "https://localhost:8080/"
    },
    "id": "gAJ_D5aZVwAd",
    "outputId": "cc2495ab-d9a5-4434-8000-f544a9d0e99b"
   },
   "outputs": [
    {
     "name": "stdout",
     "output_type": "stream",
     "text": [
      "1.3.4\n",
      "1.20.3\n"
     ]
    }
   ],
   "source": [
    "import pandas as pd\n",
    "import numpy as np\n",
    "\n",
    "print(pd.__version__)\n",
    "print(np.__version__)"
   ]
  },
  {
   "cell_type": "markdown",
   "metadata": {
    "id": "hH3GyqBYWbsG"
   },
   "source": [
    "# Persiapan Data Frame\n",
    "- Baris pada data frame kali ini bernilai jumlah hari dikali jam dalam sehari.\n",
    "- Berisi deret waktu dengan frekuensi per hour."
   ]
  },
  {
   "cell_type": "code",
   "execution_count": 3,
   "metadata": {
    "colab": {
     "base_uri": "https://localhost:8080/",
     "height": 458
    },
    "id": "9oMZ43tzW0Xe",
    "outputId": "b7c435eb-64f6-49fc-db0d-5f86e5f8af30"
   },
   "outputs": [
    {
     "name": "stderr",
     "output_type": "stream",
     "text": [
      "C:\\Users\\MSI\\anaconda3\\lib\\site-packages\\pandas\\util\\__init__.py:15: FutureWarning: pandas.util.testing is deprecated. Use the functions in the public API at pandas.testing instead.\n",
      "  import pandas.util.testing\n"
     ]
    },
    {
     "data": {
      "text/html": [
       "<div>\n",
       "<style scoped>\n",
       "    .dataframe tbody tr th:only-of-type {\n",
       "        vertical-align: middle;\n",
       "    }\n",
       "\n",
       "    .dataframe tbody tr th {\n",
       "        vertical-align: top;\n",
       "    }\n",
       "\n",
       "    .dataframe thead th {\n",
       "        text-align: right;\n",
       "    }\n",
       "</style>\n",
       "<table border=\"1\" class=\"dataframe\">\n",
       "  <thead>\n",
       "    <tr style=\"text-align: right;\">\n",
       "      <th></th>\n",
       "      <th>col1</th>\n",
       "      <th>col2</th>\n",
       "    </tr>\n",
       "  </thead>\n",
       "  <tbody>\n",
       "    <tr>\n",
       "      <th>2000-01-01 00:00:00</th>\n",
       "      <td>11</td>\n",
       "      <td>5</td>\n",
       "    </tr>\n",
       "    <tr>\n",
       "      <th>2000-01-01 01:00:00</th>\n",
       "      <td>12</td>\n",
       "      <td>17</td>\n",
       "    </tr>\n",
       "    <tr>\n",
       "      <th>2000-01-01 02:00:00</th>\n",
       "      <td>7</td>\n",
       "      <td>10</td>\n",
       "    </tr>\n",
       "    <tr>\n",
       "      <th>2000-01-01 03:00:00</th>\n",
       "      <td>12</td>\n",
       "      <td>9</td>\n",
       "    </tr>\n",
       "    <tr>\n",
       "      <th>2000-01-01 04:00:00</th>\n",
       "      <td>7</td>\n",
       "      <td>7</td>\n",
       "    </tr>\n",
       "    <tr>\n",
       "      <th>...</th>\n",
       "      <td>...</td>\n",
       "      <td>...</td>\n",
       "    </tr>\n",
       "    <tr>\n",
       "      <th>2000-12-30 19:00:00</th>\n",
       "      <td>5</td>\n",
       "      <td>14</td>\n",
       "    </tr>\n",
       "    <tr>\n",
       "      <th>2000-12-30 20:00:00</th>\n",
       "      <td>19</td>\n",
       "      <td>7</td>\n",
       "    </tr>\n",
       "    <tr>\n",
       "      <th>2000-12-30 21:00:00</th>\n",
       "      <td>2</td>\n",
       "      <td>10</td>\n",
       "    </tr>\n",
       "    <tr>\n",
       "      <th>2000-12-30 22:00:00</th>\n",
       "      <td>4</td>\n",
       "      <td>13</td>\n",
       "    </tr>\n",
       "    <tr>\n",
       "      <th>2000-12-30 23:00:00</th>\n",
       "      <td>2</td>\n",
       "      <td>1</td>\n",
       "    </tr>\n",
       "  </tbody>\n",
       "</table>\n",
       "<p>8760 rows × 2 columns</p>\n",
       "</div>"
      ],
      "text/plain": [
       "                     col1  col2\n",
       "2000-01-01 00:00:00    11     5\n",
       "2000-01-01 01:00:00    12    17\n",
       "2000-01-01 02:00:00     7    10\n",
       "2000-01-01 03:00:00    12     9\n",
       "2000-01-01 04:00:00     7     7\n",
       "...                   ...   ...\n",
       "2000-12-30 19:00:00     5    14\n",
       "2000-12-30 20:00:00    19     7\n",
       "2000-12-30 21:00:00     2    10\n",
       "2000-12-30 22:00:00     4    13\n",
       "2000-12-30 23:00:00     2     1\n",
       "\n",
       "[8760 rows x 2 columns]"
      ]
     },
     "execution_count": 3,
     "metadata": {},
     "output_type": "execute_result"
    }
   ],
   "source": [
    "n_rows = 365 * 24\n",
    "n_cols = 2\n",
    "cols = ['col1', 'col2']\n",
    "\n",
    "df = pd.DataFrame(np.random.randint(1, 20, size=(n_rows, n_cols)),\n",
    "                  columns=cols)\n",
    "\n",
    "df.index = pd.util.testing.makeDateIndex(n_rows, freq='H')\n",
    "df"
   ]
  },
  {
   "cell_type": "markdown",
   "metadata": {
    "id": "d2y9bzmhW5V7"
   },
   "source": [
    "# Resampling Data dengan Interval Monthly\n",
    "- Resampling di dalam time series, bisa diartikan sebagai pengelompokkkan ulang data berdasarkan interval waktu tertentu.\n",
    "- Dengan menyertakan parameter M dalam fungsi resample(), kita bisa mengubah hourly based jadi monthly based.\n",
    "- Data yang sudah di resample tidak bisa diakses per-individual ulang, tetapi data yang bisa kita akses adalah data agregasi.\n",
    "- Data agregasi yang dimaksud adalah data yang sudah dikenakan fungsi sum()"
   ]
  },
  {
   "cell_type": "code",
   "execution_count": 4,
   "metadata": {
    "colab": {
     "base_uri": "https://localhost:8080/",
     "height": 426
    },
    "id": "FYjw2IcYXLND",
    "outputId": "e0c47cf8-0bd3-4fd5-f0bb-a594644c0da2"
   },
   "outputs": [
    {
     "data": {
      "text/html": [
       "<div>\n",
       "<style scoped>\n",
       "    .dataframe tbody tr th:only-of-type {\n",
       "        vertical-align: middle;\n",
       "    }\n",
       "\n",
       "    .dataframe tbody tr th {\n",
       "        vertical-align: top;\n",
       "    }\n",
       "\n",
       "    .dataframe thead th {\n",
       "        text-align: right;\n",
       "    }\n",
       "</style>\n",
       "<table border=\"1\" class=\"dataframe\">\n",
       "  <thead>\n",
       "    <tr style=\"text-align: right;\">\n",
       "      <th></th>\n",
       "      <th>col1</th>\n",
       "    </tr>\n",
       "  </thead>\n",
       "  <tbody>\n",
       "    <tr>\n",
       "      <th>2000-01-31</th>\n",
       "      <td>7338</td>\n",
       "    </tr>\n",
       "    <tr>\n",
       "      <th>2000-02-29</th>\n",
       "      <td>6954</td>\n",
       "    </tr>\n",
       "    <tr>\n",
       "      <th>2000-03-31</th>\n",
       "      <td>7390</td>\n",
       "    </tr>\n",
       "    <tr>\n",
       "      <th>2000-04-30</th>\n",
       "      <td>6961</td>\n",
       "    </tr>\n",
       "    <tr>\n",
       "      <th>2000-05-31</th>\n",
       "      <td>7622</td>\n",
       "    </tr>\n",
       "    <tr>\n",
       "      <th>2000-06-30</th>\n",
       "      <td>7158</td>\n",
       "    </tr>\n",
       "    <tr>\n",
       "      <th>2000-07-31</th>\n",
       "      <td>7291</td>\n",
       "    </tr>\n",
       "    <tr>\n",
       "      <th>2000-08-31</th>\n",
       "      <td>7394</td>\n",
       "    </tr>\n",
       "    <tr>\n",
       "      <th>2000-09-30</th>\n",
       "      <td>7117</td>\n",
       "    </tr>\n",
       "    <tr>\n",
       "      <th>2000-10-31</th>\n",
       "      <td>7557</td>\n",
       "    </tr>\n",
       "    <tr>\n",
       "      <th>2000-11-30</th>\n",
       "      <td>7193</td>\n",
       "    </tr>\n",
       "    <tr>\n",
       "      <th>2000-12-31</th>\n",
       "      <td>7409</td>\n",
       "    </tr>\n",
       "  </tbody>\n",
       "</table>\n",
       "</div>"
      ],
      "text/plain": [
       "            col1\n",
       "2000-01-31  7338\n",
       "2000-02-29  6954\n",
       "2000-03-31  7390\n",
       "2000-04-30  6961\n",
       "2000-05-31  7622\n",
       "2000-06-30  7158\n",
       "2000-07-31  7291\n",
       "2000-08-31  7394\n",
       "2000-09-30  7117\n",
       "2000-10-31  7557\n",
       "2000-11-30  7193\n",
       "2000-12-31  7409"
      ]
     },
     "execution_count": 4,
     "metadata": {},
     "output_type": "execute_result"
    }
   ],
   "source": [
    "df.resample('M')['col1'].sum().to_frame()"
   ]
  },
  {
   "cell_type": "markdown",
   "metadata": {
    "id": "bkCAYKcpXOk9"
   },
   "source": [
    "# Resampling Data dengan Interval Daily\n",
    "- Dengan menggunakan parameter D dalam fungsi resample(), kita bisa mengubah monthly based jadi daily based."
   ]
  },
  {
   "cell_type": "code",
   "execution_count": 5,
   "metadata": {
    "colab": {
     "base_uri": "https://localhost:8080/",
     "height": 424
    },
    "id": "N-H4VXuOXUKB",
    "outputId": "6c2fd3ac-bd36-41fe-e301-e297b7eff63f"
   },
   "outputs": [
    {
     "data": {
      "text/html": [
       "<div>\n",
       "<style scoped>\n",
       "    .dataframe tbody tr th:only-of-type {\n",
       "        vertical-align: middle;\n",
       "    }\n",
       "\n",
       "    .dataframe tbody tr th {\n",
       "        vertical-align: top;\n",
       "    }\n",
       "\n",
       "    .dataframe thead th {\n",
       "        text-align: right;\n",
       "    }\n",
       "</style>\n",
       "<table border=\"1\" class=\"dataframe\">\n",
       "  <thead>\n",
       "    <tr style=\"text-align: right;\">\n",
       "      <th></th>\n",
       "      <th>col1</th>\n",
       "    </tr>\n",
       "  </thead>\n",
       "  <tbody>\n",
       "    <tr>\n",
       "      <th>2000-01-01</th>\n",
       "      <td>253</td>\n",
       "    </tr>\n",
       "    <tr>\n",
       "      <th>2000-01-02</th>\n",
       "      <td>238</td>\n",
       "    </tr>\n",
       "    <tr>\n",
       "      <th>2000-01-03</th>\n",
       "      <td>231</td>\n",
       "    </tr>\n",
       "    <tr>\n",
       "      <th>2000-01-04</th>\n",
       "      <td>230</td>\n",
       "    </tr>\n",
       "    <tr>\n",
       "      <th>2000-01-05</th>\n",
       "      <td>263</td>\n",
       "    </tr>\n",
       "    <tr>\n",
       "      <th>...</th>\n",
       "      <td>...</td>\n",
       "    </tr>\n",
       "    <tr>\n",
       "      <th>2000-12-26</th>\n",
       "      <td>242</td>\n",
       "    </tr>\n",
       "    <tr>\n",
       "      <th>2000-12-27</th>\n",
       "      <td>224</td>\n",
       "    </tr>\n",
       "    <tr>\n",
       "      <th>2000-12-28</th>\n",
       "      <td>209</td>\n",
       "    </tr>\n",
       "    <tr>\n",
       "      <th>2000-12-29</th>\n",
       "      <td>287</td>\n",
       "    </tr>\n",
       "    <tr>\n",
       "      <th>2000-12-30</th>\n",
       "      <td>205</td>\n",
       "    </tr>\n",
       "  </tbody>\n",
       "</table>\n",
       "<p>365 rows × 1 columns</p>\n",
       "</div>"
      ],
      "text/plain": [
       "            col1\n",
       "2000-01-01   253\n",
       "2000-01-02   238\n",
       "2000-01-03   231\n",
       "2000-01-04   230\n",
       "2000-01-05   263\n",
       "...          ...\n",
       "2000-12-26   242\n",
       "2000-12-27   224\n",
       "2000-12-28   209\n",
       "2000-12-29   287\n",
       "2000-12-30   205\n",
       "\n",
       "[365 rows x 1 columns]"
      ]
     },
     "execution_count": 5,
     "metadata": {},
     "output_type": "execute_result"
    }
   ],
   "source": [
    "df.resample('D')['col1'].sum().to_frame()"
   ]
  },
  {
   "attachments": {},
   "cell_type": "markdown",
   "metadata": {
    "id": "HAvKCvCWXar2"
   },
   "source": [
    "# **#18 Membentuk dummy Data Frame**"
   ]
  },
  {
   "cell_type": "markdown",
   "metadata": {
    "id": "LqLJaGK7Xihw"
   },
   "source": [
    "# Import Modules"
   ]
  },
  {
   "cell_type": "code",
   "execution_count": 6,
   "metadata": {
    "colab": {
     "base_uri": "https://localhost:8080/"
    },
    "id": "5csXS5ywXmTS",
    "outputId": "30c50b93-bd60-4999-8ec4-f2079ce97927"
   },
   "outputs": [
    {
     "name": "stdout",
     "output_type": "stream",
     "text": [
      "1.3.4\n",
      "1.20.3\n"
     ]
    }
   ],
   "source": [
    "import pandas as pd\n",
    "import numpy as np\n",
    "\n",
    "#Cek versi\n",
    "print(pd.__version__)\n",
    "print(np.__version__)"
   ]
  },
  {
   "cell_type": "markdown",
   "metadata": {
    "id": "Aw-zWTsSXpND"
   },
   "source": [
    "# Membentuk Data Frame dari Dictionary\n",
    "- Menggunakan dictionary. Dimana keys akan menjadi nama kolom dan value akan menjadi nilai dari kolom."
   ]
  },
  {
   "cell_type": "code",
   "execution_count": 7,
   "metadata": {
    "colab": {
     "base_uri": "https://localhost:8080/",
     "height": 175
    },
    "id": "_CfINfoIXtHj",
    "outputId": "b535f94b-5b79-4dcf-e2db-0e3ed6a5aaa3"
   },
   "outputs": [
    {
     "data": {
      "text/html": [
       "<div>\n",
       "<style scoped>\n",
       "    .dataframe tbody tr th:only-of-type {\n",
       "        vertical-align: middle;\n",
       "    }\n",
       "\n",
       "    .dataframe tbody tr th {\n",
       "        vertical-align: top;\n",
       "    }\n",
       "\n",
       "    .dataframe thead th {\n",
       "        text-align: right;\n",
       "    }\n",
       "</style>\n",
       "<table border=\"1\" class=\"dataframe\">\n",
       "  <thead>\n",
       "    <tr style=\"text-align: right;\">\n",
       "      <th></th>\n",
       "      <th>col1</th>\n",
       "      <th>col2</th>\n",
       "    </tr>\n",
       "  </thead>\n",
       "  <tbody>\n",
       "    <tr>\n",
       "      <th>0</th>\n",
       "      <td>1</td>\n",
       "      <td>5</td>\n",
       "    </tr>\n",
       "    <tr>\n",
       "      <th>1</th>\n",
       "      <td>2</td>\n",
       "      <td>6</td>\n",
       "    </tr>\n",
       "    <tr>\n",
       "      <th>2</th>\n",
       "      <td>3</td>\n",
       "      <td>7</td>\n",
       "    </tr>\n",
       "    <tr>\n",
       "      <th>3</th>\n",
       "      <td>4</td>\n",
       "      <td>8</td>\n",
       "    </tr>\n",
       "  </tbody>\n",
       "</table>\n",
       "</div>"
      ],
      "text/plain": [
       "   col1  col2\n",
       "0     1     5\n",
       "1     2     6\n",
       "2     3     7\n",
       "3     4     8"
      ]
     },
     "execution_count": 7,
     "metadata": {},
     "output_type": "execute_result"
    }
   ],
   "source": [
    "pd.DataFrame({'col1':[1, 2, 3, 4], \n",
    "              'col2':[5, 6, 7, 8]})"
   ]
  },
  {
   "cell_type": "markdown",
   "metadata": {
    "id": "tYZnj624Xv93"
   },
   "source": [
    "# Membentuk Data Frame dari Numpy Array\n",
    "- Pertama tentukan jumlah baris dan kolom.\n",
    "- Generate random integer untuk baris dan kolom tersebut.\n",
    "- Simpan kedalam suatu variabel.\n",
    "- Masukkan kedalam dataframe.\n",
    "- Karena numpy array tidak memiliki nama label, pada kasus kali ini kita menggunakan fungsi tuple untuk nama tabel."
   ]
  },
  {
   "cell_type": "code",
   "execution_count": 8,
   "metadata": {
    "colab": {
     "base_uri": "https://localhost:8080/"
    },
    "id": "bCTd-_vGXvZ6",
    "outputId": "b31558dd-dcfc-495a-8968-c59d001c4599"
   },
   "outputs": [
    {
     "data": {
      "text/plain": [
       "array([[11, 14,  4],\n",
       "       [ 7, 10, 13],\n",
       "       [ 2,  2,  6],\n",
       "       [19,  8, 12],\n",
       "       [17, 10,  8]])"
      ]
     },
     "execution_count": 8,
     "metadata": {},
     "output_type": "execute_result"
    }
   ],
   "source": [
    "n_rows = 5\n",
    "n_cols = 3\n",
    "\n",
    "arr = np.random.randint(1, 20, size=(n_rows, n_cols))\n",
    "arr"
   ]
  },
  {
   "cell_type": "code",
   "execution_count": 9,
   "metadata": {
    "colab": {
     "base_uri": "https://localhost:8080/",
     "height": 206
    },
    "id": "O-0J6lZ4X6lg",
    "outputId": "02b87257-ddf4-4dfd-d67a-38df48191500"
   },
   "outputs": [
    {
     "data": {
      "text/html": [
       "<div>\n",
       "<style scoped>\n",
       "    .dataframe tbody tr th:only-of-type {\n",
       "        vertical-align: middle;\n",
       "    }\n",
       "\n",
       "    .dataframe tbody tr th {\n",
       "        vertical-align: top;\n",
       "    }\n",
       "\n",
       "    .dataframe thead th {\n",
       "        text-align: right;\n",
       "    }\n",
       "</style>\n",
       "<table border=\"1\" class=\"dataframe\">\n",
       "  <thead>\n",
       "    <tr style=\"text-align: right;\">\n",
       "      <th></th>\n",
       "      <th>A</th>\n",
       "      <th>B</th>\n",
       "      <th>C</th>\n",
       "    </tr>\n",
       "  </thead>\n",
       "  <tbody>\n",
       "    <tr>\n",
       "      <th>0</th>\n",
       "      <td>11</td>\n",
       "      <td>14</td>\n",
       "      <td>4</td>\n",
       "    </tr>\n",
       "    <tr>\n",
       "      <th>1</th>\n",
       "      <td>7</td>\n",
       "      <td>10</td>\n",
       "      <td>13</td>\n",
       "    </tr>\n",
       "    <tr>\n",
       "      <th>2</th>\n",
       "      <td>2</td>\n",
       "      <td>2</td>\n",
       "      <td>6</td>\n",
       "    </tr>\n",
       "    <tr>\n",
       "      <th>3</th>\n",
       "      <td>19</td>\n",
       "      <td>8</td>\n",
       "      <td>12</td>\n",
       "    </tr>\n",
       "    <tr>\n",
       "      <th>4</th>\n",
       "      <td>17</td>\n",
       "      <td>10</td>\n",
       "      <td>8</td>\n",
       "    </tr>\n",
       "  </tbody>\n",
       "</table>\n",
       "</div>"
      ],
      "text/plain": [
       "    A   B   C\n",
       "0  11  14   4\n",
       "1   7  10  13\n",
       "2   2   2   6\n",
       "3  19   8  12\n",
       "4  17  10   8"
      ]
     },
     "execution_count": 9,
     "metadata": {},
     "output_type": "execute_result"
    }
   ],
   "source": [
    "pd.DataFrame(arr, columns=tuple('ABC'))"
   ]
  },
  {
   "cell_type": "markdown",
   "metadata": {
    "id": "yPRaCRB3X9-5"
   },
   "source": [
    "# Membentuk Data Frame dengan Memanfaatkan pandas.util.testing\n",
    "1. Membuat dummy dataframe"
   ]
  },
  {
   "cell_type": "code",
   "execution_count": 10,
   "metadata": {
    "colab": {
     "base_uri": "https://localhost:8080/",
     "height": 206
    },
    "id": "9-RW2yb6YGo7",
    "outputId": "e320138b-a948-4720-cf56-a7b0858d8a0c"
   },
   "outputs": [
    {
     "data": {
      "text/html": [
       "<div>\n",
       "<style scoped>\n",
       "    .dataframe tbody tr th:only-of-type {\n",
       "        vertical-align: middle;\n",
       "    }\n",
       "\n",
       "    .dataframe tbody tr th {\n",
       "        vertical-align: top;\n",
       "    }\n",
       "\n",
       "    .dataframe thead th {\n",
       "        text-align: right;\n",
       "    }\n",
       "</style>\n",
       "<table border=\"1\" class=\"dataframe\">\n",
       "  <thead>\n",
       "    <tr style=\"text-align: right;\">\n",
       "      <th></th>\n",
       "      <th>A</th>\n",
       "      <th>B</th>\n",
       "      <th>C</th>\n",
       "      <th>D</th>\n",
       "    </tr>\n",
       "  </thead>\n",
       "  <tbody>\n",
       "    <tr>\n",
       "      <th>gtth7Q4mQ7</th>\n",
       "      <td>-1.197606</td>\n",
       "      <td>-2.029391</td>\n",
       "      <td>1.269940</td>\n",
       "      <td>1.098976</td>\n",
       "    </tr>\n",
       "    <tr>\n",
       "      <th>UB5P5gwmPj</th>\n",
       "      <td>1.942781</td>\n",
       "      <td>0.996833</td>\n",
       "      <td>0.300223</td>\n",
       "      <td>0.690016</td>\n",
       "    </tr>\n",
       "    <tr>\n",
       "      <th>9WwmuOlYF0</th>\n",
       "      <td>0.132541</td>\n",
       "      <td>-0.542960</td>\n",
       "      <td>1.047049</td>\n",
       "      <td>0.166713</td>\n",
       "    </tr>\n",
       "    <tr>\n",
       "      <th>0ATxA2CXSW</th>\n",
       "      <td>0.086271</td>\n",
       "      <td>0.260868</td>\n",
       "      <td>0.019661</td>\n",
       "      <td>-1.278729</td>\n",
       "    </tr>\n",
       "    <tr>\n",
       "      <th>YOW8lAKfOd</th>\n",
       "      <td>0.126038</td>\n",
       "      <td>-0.115051</td>\n",
       "      <td>1.399522</td>\n",
       "      <td>-0.272485</td>\n",
       "    </tr>\n",
       "  </tbody>\n",
       "</table>\n",
       "</div>"
      ],
      "text/plain": [
       "                   A         B         C         D\n",
       "gtth7Q4mQ7 -1.197606 -2.029391  1.269940  1.098976\n",
       "UB5P5gwmPj  1.942781  0.996833  0.300223  0.690016\n",
       "9WwmuOlYF0  0.132541 -0.542960  1.047049  0.166713\n",
       "0ATxA2CXSW  0.086271  0.260868  0.019661 -1.278729\n",
       "YOW8lAKfOd  0.126038 -0.115051  1.399522 -0.272485"
      ]
     },
     "execution_count": 10,
     "metadata": {},
     "output_type": "execute_result"
    }
   ],
   "source": [
    "pd.util.testing.makeDataFrame().head()"
   ]
  },
  {
   "cell_type": "markdown",
   "metadata": {
    "id": "rdfdsaNtYINg"
   },
   "source": [
    "2. Membuat dummy dataframe dengan tipe data yang berbeda"
   ]
  },
  {
   "cell_type": "code",
   "execution_count": 11,
   "metadata": {
    "colab": {
     "base_uri": "https://localhost:8080/",
     "height": 206
    },
    "id": "X9KjuSRFYKcs",
    "outputId": "1136d115-bf82-496d-fa2a-f924824156f4"
   },
   "outputs": [
    {
     "data": {
      "text/html": [
       "<div>\n",
       "<style scoped>\n",
       "    .dataframe tbody tr th:only-of-type {\n",
       "        vertical-align: middle;\n",
       "    }\n",
       "\n",
       "    .dataframe tbody tr th {\n",
       "        vertical-align: top;\n",
       "    }\n",
       "\n",
       "    .dataframe thead th {\n",
       "        text-align: right;\n",
       "    }\n",
       "</style>\n",
       "<table border=\"1\" class=\"dataframe\">\n",
       "  <thead>\n",
       "    <tr style=\"text-align: right;\">\n",
       "      <th></th>\n",
       "      <th>A</th>\n",
       "      <th>B</th>\n",
       "      <th>C</th>\n",
       "      <th>D</th>\n",
       "    </tr>\n",
       "  </thead>\n",
       "  <tbody>\n",
       "    <tr>\n",
       "      <th>0</th>\n",
       "      <td>0.0</td>\n",
       "      <td>0.0</td>\n",
       "      <td>foo1</td>\n",
       "      <td>2009-01-01</td>\n",
       "    </tr>\n",
       "    <tr>\n",
       "      <th>1</th>\n",
       "      <td>1.0</td>\n",
       "      <td>1.0</td>\n",
       "      <td>foo2</td>\n",
       "      <td>2009-01-02</td>\n",
       "    </tr>\n",
       "    <tr>\n",
       "      <th>2</th>\n",
       "      <td>2.0</td>\n",
       "      <td>0.0</td>\n",
       "      <td>foo3</td>\n",
       "      <td>2009-01-05</td>\n",
       "    </tr>\n",
       "    <tr>\n",
       "      <th>3</th>\n",
       "      <td>3.0</td>\n",
       "      <td>1.0</td>\n",
       "      <td>foo4</td>\n",
       "      <td>2009-01-06</td>\n",
       "    </tr>\n",
       "    <tr>\n",
       "      <th>4</th>\n",
       "      <td>4.0</td>\n",
       "      <td>0.0</td>\n",
       "      <td>foo5</td>\n",
       "      <td>2009-01-07</td>\n",
       "    </tr>\n",
       "  </tbody>\n",
       "</table>\n",
       "</div>"
      ],
      "text/plain": [
       "     A    B     C          D\n",
       "0  0.0  0.0  foo1 2009-01-01\n",
       "1  1.0  1.0  foo2 2009-01-02\n",
       "2  2.0  0.0  foo3 2009-01-05\n",
       "3  3.0  1.0  foo4 2009-01-06\n",
       "4  4.0  0.0  foo5 2009-01-07"
      ]
     },
     "execution_count": 11,
     "metadata": {},
     "output_type": "execute_result"
    }
   ],
   "source": [
    "pd.util.testing.makeMixedDataFrame().head()"
   ]
  },
  {
   "cell_type": "markdown",
   "metadata": {
    "id": "ECTwKiELYL2p"
   },
   "source": [
    "3. Membuat dummy dataframe yang berisi time series data"
   ]
  },
  {
   "cell_type": "code",
   "execution_count": 12,
   "metadata": {
    "colab": {
     "base_uri": "https://localhost:8080/",
     "height": 206
    },
    "id": "s_lzvbj-YORC",
    "outputId": "72e159c6-70d1-4dba-8631-572bea174e1e"
   },
   "outputs": [
    {
     "data": {
      "text/html": [
       "<div>\n",
       "<style scoped>\n",
       "    .dataframe tbody tr th:only-of-type {\n",
       "        vertical-align: middle;\n",
       "    }\n",
       "\n",
       "    .dataframe tbody tr th {\n",
       "        vertical-align: top;\n",
       "    }\n",
       "\n",
       "    .dataframe thead th {\n",
       "        text-align: right;\n",
       "    }\n",
       "</style>\n",
       "<table border=\"1\" class=\"dataframe\">\n",
       "  <thead>\n",
       "    <tr style=\"text-align: right;\">\n",
       "      <th></th>\n",
       "      <th>A</th>\n",
       "      <th>B</th>\n",
       "      <th>C</th>\n",
       "      <th>D</th>\n",
       "    </tr>\n",
       "  </thead>\n",
       "  <tbody>\n",
       "    <tr>\n",
       "      <th>2000-01-03</th>\n",
       "      <td>0.378199</td>\n",
       "      <td>-0.566141</td>\n",
       "      <td>-0.260039</td>\n",
       "      <td>1.750429</td>\n",
       "    </tr>\n",
       "    <tr>\n",
       "      <th>2000-01-04</th>\n",
       "      <td>1.648557</td>\n",
       "      <td>-0.067743</td>\n",
       "      <td>0.385532</td>\n",
       "      <td>1.636059</td>\n",
       "    </tr>\n",
       "    <tr>\n",
       "      <th>2000-01-05</th>\n",
       "      <td>-1.002903</td>\n",
       "      <td>0.571795</td>\n",
       "      <td>-0.209590</td>\n",
       "      <td>0.464391</td>\n",
       "    </tr>\n",
       "    <tr>\n",
       "      <th>2000-01-06</th>\n",
       "      <td>-0.328106</td>\n",
       "      <td>-0.540872</td>\n",
       "      <td>-1.135105</td>\n",
       "      <td>0.346032</td>\n",
       "    </tr>\n",
       "    <tr>\n",
       "      <th>2000-01-07</th>\n",
       "      <td>1.249900</td>\n",
       "      <td>0.725777</td>\n",
       "      <td>1.042259</td>\n",
       "      <td>0.387325</td>\n",
       "    </tr>\n",
       "  </tbody>\n",
       "</table>\n",
       "</div>"
      ],
      "text/plain": [
       "                   A         B         C         D\n",
       "2000-01-03  0.378199 -0.566141 -0.260039  1.750429\n",
       "2000-01-04  1.648557 -0.067743  0.385532  1.636059\n",
       "2000-01-05 -1.002903  0.571795 -0.209590  0.464391\n",
       "2000-01-06 -0.328106 -0.540872 -1.135105  0.346032\n",
       "2000-01-07  1.249900  0.725777  1.042259  0.387325"
      ]
     },
     "execution_count": 12,
     "metadata": {},
     "output_type": "execute_result"
    }
   ],
   "source": [
    "pd.util.testing.makeTimeDataFrame().head()"
   ]
  },
  {
   "cell_type": "markdown",
   "metadata": {
    "id": "z_yxGn-WYP67"
   },
   "source": [
    "4. Membuat dummy dataframe dengan beberapa missing value yang ditempatkan secara acak"
   ]
  },
  {
   "cell_type": "code",
   "execution_count": 13,
   "metadata": {
    "colab": {
     "base_uri": "https://localhost:8080/",
     "height": 206
    },
    "id": "fOw3WQGcYTQQ",
    "outputId": "151356af-787d-4c94-d0a6-9c84acd5e55f"
   },
   "outputs": [
    {
     "data": {
      "text/html": [
       "<div>\n",
       "<style scoped>\n",
       "    .dataframe tbody tr th:only-of-type {\n",
       "        vertical-align: middle;\n",
       "    }\n",
       "\n",
       "    .dataframe tbody tr th {\n",
       "        vertical-align: top;\n",
       "    }\n",
       "\n",
       "    .dataframe thead th {\n",
       "        text-align: right;\n",
       "    }\n",
       "</style>\n",
       "<table border=\"1\" class=\"dataframe\">\n",
       "  <thead>\n",
       "    <tr style=\"text-align: right;\">\n",
       "      <th></th>\n",
       "      <th>A</th>\n",
       "      <th>B</th>\n",
       "      <th>C</th>\n",
       "      <th>D</th>\n",
       "    </tr>\n",
       "  </thead>\n",
       "  <tbody>\n",
       "    <tr>\n",
       "      <th>WmDnD0VgHq</th>\n",
       "      <td>-1.647592</td>\n",
       "      <td>0.515455</td>\n",
       "      <td>1.445359</td>\n",
       "      <td>1.258687</td>\n",
       "    </tr>\n",
       "    <tr>\n",
       "      <th>oK5aIeQDwO</th>\n",
       "      <td>1.755898</td>\n",
       "      <td>0.858617</td>\n",
       "      <td>0.501277</td>\n",
       "      <td>0.787193</td>\n",
       "    </tr>\n",
       "    <tr>\n",
       "      <th>kRIH8XgQXB</th>\n",
       "      <td>0.400595</td>\n",
       "      <td>-0.575228</td>\n",
       "      <td>1.629545</td>\n",
       "      <td>0.316911</td>\n",
       "    </tr>\n",
       "    <tr>\n",
       "      <th>xOQltmT4oD</th>\n",
       "      <td>1.761875</td>\n",
       "      <td>0.421455</td>\n",
       "      <td>-0.665919</td>\n",
       "      <td>-0.629271</td>\n",
       "    </tr>\n",
       "    <tr>\n",
       "      <th>6QBa6ZnCaP</th>\n",
       "      <td>0.784876</td>\n",
       "      <td>0.767798</td>\n",
       "      <td>-0.280505</td>\n",
       "      <td>-0.380771</td>\n",
       "    </tr>\n",
       "  </tbody>\n",
       "</table>\n",
       "</div>"
      ],
      "text/plain": [
       "                   A         B         C         D\n",
       "WmDnD0VgHq -1.647592  0.515455  1.445359  1.258687\n",
       "oK5aIeQDwO  1.755898  0.858617  0.501277  0.787193\n",
       "kRIH8XgQXB  0.400595 -0.575228  1.629545  0.316911\n",
       "xOQltmT4oD  1.761875  0.421455 -0.665919 -0.629271\n",
       "6QBa6ZnCaP  0.784876  0.767798 -0.280505 -0.380771"
      ]
     },
     "execution_count": 13,
     "metadata": {},
     "output_type": "execute_result"
    }
   ],
   "source": [
    "pd.util.testing.makeMissingDataframe().head()"
   ]
  },
  {
   "attachments": {},
   "cell_type": "markdown",
   "metadata": {
    "id": "Bl6ZkYSFYV1i"
   },
   "source": [
    "# **#19 Formatting tampilan Data Frame**"
   ]
  },
  {
   "cell_type": "markdown",
   "metadata": {
    "id": "oCMMlG1SYdOS"
   },
   "source": [
    "# Import Modules"
   ]
  },
  {
   "cell_type": "code",
   "execution_count": 14,
   "metadata": {
    "colab": {
     "base_uri": "https://localhost:8080/"
    },
    "id": "bRafqAmvYjhJ",
    "outputId": "44b82d6d-4c81-4c6a-9595-80a66e81e0bd"
   },
   "outputs": [
    {
     "name": "stdout",
     "output_type": "stream",
     "text": [
      "1.3.4\n",
      "1.20.3\n"
     ]
    }
   ],
   "source": [
    "import pandas as pd\n",
    "import numpy as np\n",
    "\n",
    "print(pd.__version__)\n",
    "print(np.__version__)"
   ]
  },
  {
   "cell_type": "markdown",
   "metadata": {
    "id": "TJUGKEkEYpRx"
   },
   "source": [
    "# Persiapan Data Frame"
   ]
  },
  {
   "cell_type": "code",
   "execution_count": 15,
   "metadata": {
    "colab": {
     "base_uri": "https://localhost:8080/",
     "height": 206
    },
    "id": "4EIgLpdoYrlU",
    "outputId": "446d5f79-48ef-4705-c7d9-02743fb7743a"
   },
   "outputs": [
    {
     "data": {
      "text/html": [
       "<div>\n",
       "<style scoped>\n",
       "    .dataframe tbody tr th:only-of-type {\n",
       "        vertical-align: middle;\n",
       "    }\n",
       "\n",
       "    .dataframe tbody tr th {\n",
       "        vertical-align: top;\n",
       "    }\n",
       "\n",
       "    .dataframe thead th {\n",
       "        text-align: right;\n",
       "    }\n",
       "</style>\n",
       "<table border=\"1\" class=\"dataframe\">\n",
       "  <thead>\n",
       "    <tr style=\"text-align: right;\">\n",
       "      <th></th>\n",
       "      <th>omset</th>\n",
       "      <th>operasional</th>\n",
       "    </tr>\n",
       "  </thead>\n",
       "  <tbody>\n",
       "    <tr>\n",
       "      <th>0</th>\n",
       "      <td>12</td>\n",
       "      <td>13</td>\n",
       "    </tr>\n",
       "    <tr>\n",
       "      <th>1</th>\n",
       "      <td>5</td>\n",
       "      <td>8</td>\n",
       "    </tr>\n",
       "    <tr>\n",
       "      <th>2</th>\n",
       "      <td>11</td>\n",
       "      <td>5</td>\n",
       "    </tr>\n",
       "    <tr>\n",
       "      <th>3</th>\n",
       "      <td>12</td>\n",
       "      <td>15</td>\n",
       "    </tr>\n",
       "    <tr>\n",
       "      <th>4</th>\n",
       "      <td>15</td>\n",
       "      <td>8</td>\n",
       "    </tr>\n",
       "  </tbody>\n",
       "</table>\n",
       "</div>"
      ],
      "text/plain": [
       "   omset  operasional\n",
       "0     12           13\n",
       "1      5            8\n",
       "2     11            5\n",
       "3     12           15\n",
       "4     15            8"
      ]
     },
     "execution_count": 15,
     "metadata": {},
     "output_type": "execute_result"
    }
   ],
   "source": [
    "n_rows = 5\n",
    "n_cols = 2\n",
    "cols = ['omset', 'operasional']\n",
    "\n",
    "df = pd.DataFrame(np.random.randint(1, 20, size=(n_rows, n_cols)), \n",
    "                  columns=cols)\n",
    "df"
   ]
  },
  {
   "cell_type": "markdown",
   "metadata": {
    "id": "qBYIqQclY4FC"
   },
   "source": [
    "- Konversi omset dan operasional menjadi rupiah.\n",
    "- Underscore dalam python tidak akan membuat bilangan menjadi error, itu hanya digunakan untuk membantu membaca bilangan."
   ]
  },
  {
   "cell_type": "code",
   "execution_count": 16,
   "metadata": {
    "colab": {
     "base_uri": "https://localhost:8080/",
     "height": 206
    },
    "id": "qFuxBrxEY7I1",
    "outputId": "58bf0d6d-024f-42db-aae7-9e77569ab687"
   },
   "outputs": [
    {
     "data": {
      "text/html": [
       "<div>\n",
       "<style scoped>\n",
       "    .dataframe tbody tr th:only-of-type {\n",
       "        vertical-align: middle;\n",
       "    }\n",
       "\n",
       "    .dataframe tbody tr th {\n",
       "        vertical-align: top;\n",
       "    }\n",
       "\n",
       "    .dataframe thead th {\n",
       "        text-align: right;\n",
       "    }\n",
       "</style>\n",
       "<table border=\"1\" class=\"dataframe\">\n",
       "  <thead>\n",
       "    <tr style=\"text-align: right;\">\n",
       "      <th></th>\n",
       "      <th>omset</th>\n",
       "      <th>operasional</th>\n",
       "    </tr>\n",
       "  </thead>\n",
       "  <tbody>\n",
       "    <tr>\n",
       "      <th>0</th>\n",
       "      <td>1200000</td>\n",
       "      <td>130000</td>\n",
       "    </tr>\n",
       "    <tr>\n",
       "      <th>1</th>\n",
       "      <td>500000</td>\n",
       "      <td>80000</td>\n",
       "    </tr>\n",
       "    <tr>\n",
       "      <th>2</th>\n",
       "      <td>1100000</td>\n",
       "      <td>50000</td>\n",
       "    </tr>\n",
       "    <tr>\n",
       "      <th>3</th>\n",
       "      <td>1200000</td>\n",
       "      <td>150000</td>\n",
       "    </tr>\n",
       "    <tr>\n",
       "      <th>4</th>\n",
       "      <td>1500000</td>\n",
       "      <td>80000</td>\n",
       "    </tr>\n",
       "  </tbody>\n",
       "</table>\n",
       "</div>"
      ],
      "text/plain": [
       "     omset  operasional\n",
       "0  1200000       130000\n",
       "1   500000        80000\n",
       "2  1100000        50000\n",
       "3  1200000       150000\n",
       "4  1500000        80000"
      ]
     },
     "execution_count": 16,
     "metadata": {},
     "output_type": "execute_result"
    }
   ],
   "source": [
    "df['omset'] = df['omset'] * 100_000\n",
    "df['operasional'] = df['operasional'] * 10_000\n",
    "df"
   ]
  },
  {
   "cell_type": "markdown",
   "metadata": {
    "id": "rPN1nYljY8q-"
   },
   "source": [
    "- Membuat kolom tanggal\n",
    "- Diisi dengan menggunakan fungsi generate dengan frequensi daily based."
   ]
  },
  {
   "cell_type": "code",
   "execution_count": 17,
   "metadata": {
    "colab": {
     "base_uri": "https://localhost:8080/",
     "height": 206
    },
    "id": "Y00Bkh8bZAxG",
    "outputId": "f154d056-e45a-4f11-82a1-4ef6c1d65b7f"
   },
   "outputs": [
    {
     "data": {
      "text/html": [
       "<div>\n",
       "<style scoped>\n",
       "    .dataframe tbody tr th:only-of-type {\n",
       "        vertical-align: middle;\n",
       "    }\n",
       "\n",
       "    .dataframe tbody tr th {\n",
       "        vertical-align: top;\n",
       "    }\n",
       "\n",
       "    .dataframe thead th {\n",
       "        text-align: right;\n",
       "    }\n",
       "</style>\n",
       "<table border=\"1\" class=\"dataframe\">\n",
       "  <thead>\n",
       "    <tr style=\"text-align: right;\">\n",
       "      <th></th>\n",
       "      <th>tanggal</th>\n",
       "      <th>omset</th>\n",
       "      <th>operasional</th>\n",
       "    </tr>\n",
       "  </thead>\n",
       "  <tbody>\n",
       "    <tr>\n",
       "      <th>0</th>\n",
       "      <td>2000-01-01</td>\n",
       "      <td>1200000</td>\n",
       "      <td>130000</td>\n",
       "    </tr>\n",
       "    <tr>\n",
       "      <th>1</th>\n",
       "      <td>2000-01-02</td>\n",
       "      <td>500000</td>\n",
       "      <td>80000</td>\n",
       "    </tr>\n",
       "    <tr>\n",
       "      <th>2</th>\n",
       "      <td>2000-01-03</td>\n",
       "      <td>1100000</td>\n",
       "      <td>50000</td>\n",
       "    </tr>\n",
       "    <tr>\n",
       "      <th>3</th>\n",
       "      <td>2000-01-04</td>\n",
       "      <td>1200000</td>\n",
       "      <td>150000</td>\n",
       "    </tr>\n",
       "    <tr>\n",
       "      <th>4</th>\n",
       "      <td>2000-01-05</td>\n",
       "      <td>1500000</td>\n",
       "      <td>80000</td>\n",
       "    </tr>\n",
       "  </tbody>\n",
       "</table>\n",
       "</div>"
      ],
      "text/plain": [
       "     tanggal    omset  operasional\n",
       "0 2000-01-01  1200000       130000\n",
       "1 2000-01-02   500000        80000\n",
       "2 2000-01-03  1100000        50000\n",
       "3 2000-01-04  1200000       150000\n",
       "4 2000-01-05  1500000        80000"
      ]
     },
     "execution_count": 17,
     "metadata": {},
     "output_type": "execute_result"
    }
   ],
   "source": [
    "df.index = pd.util.testing.makeDateIndex(n_rows, freq='D')\n",
    "df = df.reset_index()\n",
    "df = df.rename(columns={'index':'tanggal'})\n",
    "df"
   ]
  },
  {
   "cell_type": "markdown",
   "metadata": {
    "id": "AO7eObsqZFpV"
   },
   "source": [
    "# Melakukan formatting tampilan Data Frame\n",
    "- Gunakan dictionary dan tampung kedalam variabel.\n",
    "- Untuk setiap key disesuaikan dengan nama kolomnya, tetapi urutannya bebas.\n",
    "- Formatting menggunakan tipe data string.\n",
    "- :.2f digunakan untuk menyertakan 2 digit exstra di belakang koma."
   ]
  },
  {
   "cell_type": "code",
   "execution_count": 18,
   "metadata": {
    "colab": {
     "base_uri": "https://localhost:8080/",
     "height": 206
    },
    "id": "BeE6DZ-WZNNR",
    "outputId": "1abfda6e-e806-4940-ee6e-3b72fc8b655d"
   },
   "outputs": [
    {
     "data": {
      "text/html": [
       "<style type=\"text/css\">\n",
       "</style>\n",
       "<table id=\"T_c0e75_\">\n",
       "  <thead>\n",
       "    <tr>\n",
       "      <th class=\"blank level0\" >&nbsp;</th>\n",
       "      <th class=\"col_heading level0 col0\" >tanggal</th>\n",
       "      <th class=\"col_heading level0 col1\" >omset</th>\n",
       "      <th class=\"col_heading level0 col2\" >operasional</th>\n",
       "    </tr>\n",
       "  </thead>\n",
       "  <tbody>\n",
       "    <tr>\n",
       "      <th id=\"T_c0e75_level0_row0\" class=\"row_heading level0 row0\" >0</th>\n",
       "      <td id=\"T_c0e75_row0_col0\" class=\"data row0 col0\" >01/01/00</td>\n",
       "      <td id=\"T_c0e75_row0_col1\" class=\"data row0 col1\" >Rp 1200000.00</td>\n",
       "      <td id=\"T_c0e75_row0_col2\" class=\"data row0 col2\" >Rp 130000.00</td>\n",
       "    </tr>\n",
       "    <tr>\n",
       "      <th id=\"T_c0e75_level0_row1\" class=\"row_heading level0 row1\" >1</th>\n",
       "      <td id=\"T_c0e75_row1_col0\" class=\"data row1 col0\" >02/01/00</td>\n",
       "      <td id=\"T_c0e75_row1_col1\" class=\"data row1 col1\" >Rp 500000.00</td>\n",
       "      <td id=\"T_c0e75_row1_col2\" class=\"data row1 col2\" >Rp 80000.00</td>\n",
       "    </tr>\n",
       "    <tr>\n",
       "      <th id=\"T_c0e75_level0_row2\" class=\"row_heading level0 row2\" >2</th>\n",
       "      <td id=\"T_c0e75_row2_col0\" class=\"data row2 col0\" >03/01/00</td>\n",
       "      <td id=\"T_c0e75_row2_col1\" class=\"data row2 col1\" >Rp 1100000.00</td>\n",
       "      <td id=\"T_c0e75_row2_col2\" class=\"data row2 col2\" >Rp 50000.00</td>\n",
       "    </tr>\n",
       "    <tr>\n",
       "      <th id=\"T_c0e75_level0_row3\" class=\"row_heading level0 row3\" >3</th>\n",
       "      <td id=\"T_c0e75_row3_col0\" class=\"data row3 col0\" >04/01/00</td>\n",
       "      <td id=\"T_c0e75_row3_col1\" class=\"data row3 col1\" >Rp 1200000.00</td>\n",
       "      <td id=\"T_c0e75_row3_col2\" class=\"data row3 col2\" >Rp 150000.00</td>\n",
       "    </tr>\n",
       "    <tr>\n",
       "      <th id=\"T_c0e75_level0_row4\" class=\"row_heading level0 row4\" >4</th>\n",
       "      <td id=\"T_c0e75_row4_col0\" class=\"data row4 col0\" >05/01/00</td>\n",
       "      <td id=\"T_c0e75_row4_col1\" class=\"data row4 col1\" >Rp 1500000.00</td>\n",
       "      <td id=\"T_c0e75_row4_col2\" class=\"data row4 col2\" >Rp 80000.00</td>\n",
       "    </tr>\n",
       "  </tbody>\n",
       "</table>\n"
      ],
      "text/plain": [
       "<pandas.io.formats.style.Styler at 0x1f7db88e4f0>"
      ]
     },
     "execution_count": 18,
     "metadata": {},
     "output_type": "execute_result"
    }
   ],
   "source": [
    "formatku = {'tanggal':'{:%d/%m/%y}', \n",
    "            'operasional':'Rp {:.2f}',\n",
    "            'omset':'Rp {:.2f}'}\n",
    "\n",
    "laporan = df.style.format(formatku)\n",
    "laporan # laporan bukan objek dataframe"
   ]
  },
  {
   "cell_type": "markdown",
   "metadata": {
    "id": "mG1vrIqXep4L"
   },
   "source": [
    "- Variabel laporan bukan objek dataframe\n",
    "- Objek dataframe tetaplah df"
   ]
  },
  {
   "cell_type": "code",
   "execution_count": 19,
   "metadata": {
    "colab": {
     "base_uri": "https://localhost:8080/"
    },
    "id": "AdgYD7hOev9z",
    "outputId": "6b9b5d5f-0e38-4170-c7ac-0d183589a087"
   },
   "outputs": [
    {
     "data": {
      "text/plain": [
       "pandas.io.formats.style.Styler"
      ]
     },
     "execution_count": 19,
     "metadata": {},
     "output_type": "execute_result"
    }
   ],
   "source": [
    "type(laporan)"
   ]
  },
  {
   "cell_type": "markdown",
   "metadata": {
    "id": "6lh4OmIcezM6"
   },
   "source": [
    "Menghilangkan index (0, 1, ...)."
   ]
  },
  {
   "cell_type": "code",
   "execution_count": 20,
   "metadata": {
    "colab": {
     "base_uri": "https://localhost:8080/",
     "height": 206
    },
    "id": "_gZEVpoMe1uV",
    "outputId": "7723e339-3032-44e5-ae77-433e5de73f41"
   },
   "outputs": [
    {
     "data": {
      "text/html": [
       "<style type=\"text/css\">\n",
       "</style>\n",
       "<table id=\"T_c0e75_\">\n",
       "  <thead>\n",
       "    <tr>\n",
       "      <th class=\"col_heading level0 col0\" >tanggal</th>\n",
       "      <th class=\"col_heading level0 col1\" >omset</th>\n",
       "      <th class=\"col_heading level0 col2\" >operasional</th>\n",
       "    </tr>\n",
       "  </thead>\n",
       "  <tbody>\n",
       "    <tr>\n",
       "      <td id=\"T_c0e75_row0_col0\" class=\"data row0 col0\" >01/01/00</td>\n",
       "      <td id=\"T_c0e75_row0_col1\" class=\"data row0 col1\" >Rp 1200000.00</td>\n",
       "      <td id=\"T_c0e75_row0_col2\" class=\"data row0 col2\" >Rp 130000.00</td>\n",
       "    </tr>\n",
       "    <tr>\n",
       "      <td id=\"T_c0e75_row1_col0\" class=\"data row1 col0\" >02/01/00</td>\n",
       "      <td id=\"T_c0e75_row1_col1\" class=\"data row1 col1\" >Rp 500000.00</td>\n",
       "      <td id=\"T_c0e75_row1_col2\" class=\"data row1 col2\" >Rp 80000.00</td>\n",
       "    </tr>\n",
       "    <tr>\n",
       "      <td id=\"T_c0e75_row2_col0\" class=\"data row2 col0\" >03/01/00</td>\n",
       "      <td id=\"T_c0e75_row2_col1\" class=\"data row2 col1\" >Rp 1100000.00</td>\n",
       "      <td id=\"T_c0e75_row2_col2\" class=\"data row2 col2\" >Rp 50000.00</td>\n",
       "    </tr>\n",
       "    <tr>\n",
       "      <td id=\"T_c0e75_row3_col0\" class=\"data row3 col0\" >04/01/00</td>\n",
       "      <td id=\"T_c0e75_row3_col1\" class=\"data row3 col1\" >Rp 1200000.00</td>\n",
       "      <td id=\"T_c0e75_row3_col2\" class=\"data row3 col2\" >Rp 150000.00</td>\n",
       "    </tr>\n",
       "    <tr>\n",
       "      <td id=\"T_c0e75_row4_col0\" class=\"data row4 col0\" >05/01/00</td>\n",
       "      <td id=\"T_c0e75_row4_col1\" class=\"data row4 col1\" >Rp 1500000.00</td>\n",
       "      <td id=\"T_c0e75_row4_col2\" class=\"data row4 col2\" >Rp 80000.00</td>\n",
       "    </tr>\n",
       "  </tbody>\n",
       "</table>\n"
      ],
      "text/plain": [
       "<pandas.io.formats.style.Styler at 0x1f7db88e4f0>"
      ]
     },
     "execution_count": 20,
     "metadata": {},
     "output_type": "execute_result"
    }
   ],
   "source": [
    "laporan.hide_index()"
   ]
  },
  {
   "cell_type": "markdown",
   "metadata": {
    "id": "rXCf1LAke3ws"
   },
   "source": [
    "- Memberi keterangan"
   ]
  },
  {
   "cell_type": "code",
   "execution_count": 21,
   "metadata": {
    "colab": {
     "base_uri": "https://localhost:8080/",
     "height": 224
    },
    "id": "NDBJ6P0ve6tx",
    "outputId": "c409bc30-5069-4bc1-8375-09b1e1cb6373"
   },
   "outputs": [
    {
     "data": {
      "text/html": [
       "<style type=\"text/css\">\n",
       "</style>\n",
       "<table id=\"T_c0e75_\">\n",
       "  <caption>Data Omset dan Operasional</caption>\n",
       "  <thead>\n",
       "    <tr>\n",
       "      <th class=\"col_heading level0 col0\" >tanggal</th>\n",
       "      <th class=\"col_heading level0 col1\" >omset</th>\n",
       "      <th class=\"col_heading level0 col2\" >operasional</th>\n",
       "    </tr>\n",
       "  </thead>\n",
       "  <tbody>\n",
       "    <tr>\n",
       "      <td id=\"T_c0e75_row0_col0\" class=\"data row0 col0\" >01/01/00</td>\n",
       "      <td id=\"T_c0e75_row0_col1\" class=\"data row0 col1\" >Rp 1200000.00</td>\n",
       "      <td id=\"T_c0e75_row0_col2\" class=\"data row0 col2\" >Rp 130000.00</td>\n",
       "    </tr>\n",
       "    <tr>\n",
       "      <td id=\"T_c0e75_row1_col0\" class=\"data row1 col0\" >02/01/00</td>\n",
       "      <td id=\"T_c0e75_row1_col1\" class=\"data row1 col1\" >Rp 500000.00</td>\n",
       "      <td id=\"T_c0e75_row1_col2\" class=\"data row1 col2\" >Rp 80000.00</td>\n",
       "    </tr>\n",
       "    <tr>\n",
       "      <td id=\"T_c0e75_row2_col0\" class=\"data row2 col0\" >03/01/00</td>\n",
       "      <td id=\"T_c0e75_row2_col1\" class=\"data row2 col1\" >Rp 1100000.00</td>\n",
       "      <td id=\"T_c0e75_row2_col2\" class=\"data row2 col2\" >Rp 50000.00</td>\n",
       "    </tr>\n",
       "    <tr>\n",
       "      <td id=\"T_c0e75_row3_col0\" class=\"data row3 col0\" >04/01/00</td>\n",
       "      <td id=\"T_c0e75_row3_col1\" class=\"data row3 col1\" >Rp 1200000.00</td>\n",
       "      <td id=\"T_c0e75_row3_col2\" class=\"data row3 col2\" >Rp 150000.00</td>\n",
       "    </tr>\n",
       "    <tr>\n",
       "      <td id=\"T_c0e75_row4_col0\" class=\"data row4 col0\" >05/01/00</td>\n",
       "      <td id=\"T_c0e75_row4_col1\" class=\"data row4 col1\" >Rp 1500000.00</td>\n",
       "      <td id=\"T_c0e75_row4_col2\" class=\"data row4 col2\" >Rp 80000.00</td>\n",
       "    </tr>\n",
       "  </tbody>\n",
       "</table>\n"
      ],
      "text/plain": [
       "<pandas.io.formats.style.Styler at 0x1f7db88e4f0>"
      ]
     },
     "execution_count": 21,
     "metadata": {},
     "output_type": "execute_result"
    }
   ],
   "source": [
    "laporan.set_caption('Data Omset dan Operasional')"
   ]
  },
  {
   "cell_type": "markdown",
   "metadata": {
    "id": "Ajb6F7tne8Ww"
   },
   "source": [
    "- Memberi penanda warna pada dataframe"
   ]
  },
  {
   "cell_type": "code",
   "execution_count": 22,
   "metadata": {
    "colab": {
     "base_uri": "https://localhost:8080/",
     "height": 224
    },
    "id": "PoZ6xwObe_PM",
    "outputId": "945b7a68-4d0c-4590-c9a6-15ae2991380b"
   },
   "outputs": [
    {
     "data": {
      "text/html": [
       "<style type=\"text/css\">\n",
       "#T_c0e75_row1_col1 {\n",
       "  background-color: pink;\n",
       "}\n",
       "#T_c0e75_row2_col2 {\n",
       "  background-color: lightblue;\n",
       "}\n",
       "#T_c0e75_row3_col2 {\n",
       "  background-color: grey;\n",
       "}\n",
       "#T_c0e75_row4_col1 {\n",
       "  background-color: lightgreen;\n",
       "}\n",
       "</style>\n",
       "<table id=\"T_c0e75_\">\n",
       "  <caption>Data Omset dan Operasional</caption>\n",
       "  <thead>\n",
       "    <tr>\n",
       "      <th class=\"col_heading level0 col0\" >tanggal</th>\n",
       "      <th class=\"col_heading level0 col1\" >omset</th>\n",
       "      <th class=\"col_heading level0 col2\" >operasional</th>\n",
       "    </tr>\n",
       "  </thead>\n",
       "  <tbody>\n",
       "    <tr>\n",
       "      <td id=\"T_c0e75_row0_col0\" class=\"data row0 col0\" >01/01/00</td>\n",
       "      <td id=\"T_c0e75_row0_col1\" class=\"data row0 col1\" >Rp 1200000.00</td>\n",
       "      <td id=\"T_c0e75_row0_col2\" class=\"data row0 col2\" >Rp 130000.00</td>\n",
       "    </tr>\n",
       "    <tr>\n",
       "      <td id=\"T_c0e75_row1_col0\" class=\"data row1 col0\" >02/01/00</td>\n",
       "      <td id=\"T_c0e75_row1_col1\" class=\"data row1 col1\" >Rp 500000.00</td>\n",
       "      <td id=\"T_c0e75_row1_col2\" class=\"data row1 col2\" >Rp 80000.00</td>\n",
       "    </tr>\n",
       "    <tr>\n",
       "      <td id=\"T_c0e75_row2_col0\" class=\"data row2 col0\" >03/01/00</td>\n",
       "      <td id=\"T_c0e75_row2_col1\" class=\"data row2 col1\" >Rp 1100000.00</td>\n",
       "      <td id=\"T_c0e75_row2_col2\" class=\"data row2 col2\" >Rp 50000.00</td>\n",
       "    </tr>\n",
       "    <tr>\n",
       "      <td id=\"T_c0e75_row3_col0\" class=\"data row3 col0\" >04/01/00</td>\n",
       "      <td id=\"T_c0e75_row3_col1\" class=\"data row3 col1\" >Rp 1200000.00</td>\n",
       "      <td id=\"T_c0e75_row3_col2\" class=\"data row3 col2\" >Rp 150000.00</td>\n",
       "    </tr>\n",
       "    <tr>\n",
       "      <td id=\"T_c0e75_row4_col0\" class=\"data row4 col0\" >05/01/00</td>\n",
       "      <td id=\"T_c0e75_row4_col1\" class=\"data row4 col1\" >Rp 1500000.00</td>\n",
       "      <td id=\"T_c0e75_row4_col2\" class=\"data row4 col2\" >Rp 80000.00</td>\n",
       "    </tr>\n",
       "  </tbody>\n",
       "</table>\n"
      ],
      "text/plain": [
       "<pandas.io.formats.style.Styler at 0x1f7db88e4f0>"
      ]
     },
     "execution_count": 22,
     "metadata": {},
     "output_type": "execute_result"
    }
   ],
   "source": [
    "laporan.highlight_min('omset', color='pink')\n",
    "laporan.highlight_max('omset', color='lightgreen')\n",
    "\n",
    "laporan.highlight_min('operasional', color='lightblue')\n",
    "laporan.highlight_max('operasional', color='grey')"
   ]
  },
  {
   "attachments": {},
   "cell_type": "markdown",
   "metadata": {
    "id": "ekCUxV2DfCGu"
   },
   "source": [
    "# **#20 Menggabungkan (merge) Dua Data Frame Secara Berdampingan**"
   ]
  },
  {
   "cell_type": "markdown",
   "metadata": {
    "id": "M9uXj3cMfJ8P"
   },
   "source": [
    "# Import Modules"
   ]
  },
  {
   "cell_type": "code",
   "execution_count": 23,
   "metadata": {
    "colab": {
     "base_uri": "https://localhost:8080/"
    },
    "id": "NX4dlLcEfMHX",
    "outputId": "85f32c18-e488-4575-a2b7-7738db5c146a"
   },
   "outputs": [
    {
     "name": "stdout",
     "output_type": "stream",
     "text": [
      "1.3.4\n"
     ]
    }
   ],
   "source": [
    "import pandas as pd\n",
    "\n",
    "print(pd.__version__)"
   ]
  },
  {
   "cell_type": "markdown",
   "metadata": {
    "id": "N1Z-LpdXfOLy"
   },
   "source": [
    "- Membuat 2 buah dataframe\n",
    "- Masing-masing dataframe akan memiliki dua buah dictionary"
   ]
  },
  {
   "cell_type": "code",
   "execution_count": 24,
   "metadata": {
    "colab": {
     "base_uri": "https://localhost:8080/",
     "height": 143
    },
    "id": "hL79hCcifTUx",
    "outputId": "2a8ee759-f616-4355-c17b-f39b61e9eb3d"
   },
   "outputs": [
    {
     "data": {
      "text/html": [
       "<div>\n",
       "<style scoped>\n",
       "    .dataframe tbody tr th:only-of-type {\n",
       "        vertical-align: middle;\n",
       "    }\n",
       "\n",
       "    .dataframe tbody tr th {\n",
       "        vertical-align: top;\n",
       "    }\n",
       "\n",
       "    .dataframe thead th {\n",
       "        text-align: right;\n",
       "    }\n",
       "</style>\n",
       "<table border=\"1\" class=\"dataframe\">\n",
       "  <thead>\n",
       "    <tr style=\"text-align: right;\">\n",
       "      <th></th>\n",
       "      <th>col1</th>\n",
       "      <th>col2</th>\n",
       "    </tr>\n",
       "  </thead>\n",
       "  <tbody>\n",
       "    <tr>\n",
       "      <th>0</th>\n",
       "      <td>1</td>\n",
       "      <td>10</td>\n",
       "    </tr>\n",
       "    <tr>\n",
       "      <th>1</th>\n",
       "      <td>2</td>\n",
       "      <td>20</td>\n",
       "    </tr>\n",
       "    <tr>\n",
       "      <th>2</th>\n",
       "      <td>3</td>\n",
       "      <td>30</td>\n",
       "    </tr>\n",
       "  </tbody>\n",
       "</table>\n",
       "</div>"
      ],
      "text/plain": [
       "   col1  col2\n",
       "0     1    10\n",
       "1     2    20\n",
       "2     3    30"
      ]
     },
     "execution_count": 24,
     "metadata": {},
     "output_type": "execute_result"
    }
   ],
   "source": [
    "d1 = {'col1':[1, 2, 3], \n",
    "      'col2':[10, 20, 30]}\n",
    "df1 = pd.DataFrame(d1)\n",
    "df1"
   ]
  },
  {
   "cell_type": "code",
   "execution_count": 25,
   "metadata": {
    "colab": {
     "base_uri": "https://localhost:8080/",
     "height": 143
    },
    "id": "xsqjGPw6fVFa",
    "outputId": "875101b1-7261-4d20-d764-2b6efcfa368c"
   },
   "outputs": [
    {
     "data": {
      "text/html": [
       "<div>\n",
       "<style scoped>\n",
       "    .dataframe tbody tr th:only-of-type {\n",
       "        vertical-align: middle;\n",
       "    }\n",
       "\n",
       "    .dataframe tbody tr th {\n",
       "        vertical-align: top;\n",
       "    }\n",
       "\n",
       "    .dataframe thead th {\n",
       "        text-align: right;\n",
       "    }\n",
       "</style>\n",
       "<table border=\"1\" class=\"dataframe\">\n",
       "  <thead>\n",
       "    <tr style=\"text-align: right;\">\n",
       "      <th></th>\n",
       "      <th>col3</th>\n",
       "      <th>col4</th>\n",
       "    </tr>\n",
       "  </thead>\n",
       "  <tbody>\n",
       "    <tr>\n",
       "      <th>0</th>\n",
       "      <td>4</td>\n",
       "      <td>40</td>\n",
       "    </tr>\n",
       "    <tr>\n",
       "      <th>1</th>\n",
       "      <td>5</td>\n",
       "      <td>50</td>\n",
       "    </tr>\n",
       "    <tr>\n",
       "      <th>2</th>\n",
       "      <td>6</td>\n",
       "      <td>60</td>\n",
       "    </tr>\n",
       "  </tbody>\n",
       "</table>\n",
       "</div>"
      ],
      "text/plain": [
       "   col3  col4\n",
       "0     4    40\n",
       "1     5    50\n",
       "2     6    60"
      ]
     },
     "execution_count": 25,
     "metadata": {},
     "output_type": "execute_result"
    }
   ],
   "source": [
    "d2 = {'col3':[4, 5, 6], \n",
    "      'col4':[40, 50, 60]}\n",
    "df2 = pd.DataFrame(d2)\n",
    "df2"
   ]
  },
  {
   "cell_type": "markdown",
   "metadata": {
    "id": "eEwjRjPefXIS"
   },
   "source": [
    "- Berbeda dengan trick sebelumnya\n",
    "- Kali ini, kita hanya perlu menambahkan arguments True pada parameter left_index dan right_index."
   ]
  },
  {
   "cell_type": "code",
   "execution_count": 26,
   "metadata": {
    "colab": {
     "base_uri": "https://localhost:8080/",
     "height": 143
    },
    "id": "xXOFtg6dfa0L",
    "outputId": "3f87617d-3b99-4c13-df7a-a4b5b1224bc7"
   },
   "outputs": [
    {
     "data": {
      "text/html": [
       "<div>\n",
       "<style scoped>\n",
       "    .dataframe tbody tr th:only-of-type {\n",
       "        vertical-align: middle;\n",
       "    }\n",
       "\n",
       "    .dataframe tbody tr th {\n",
       "        vertical-align: top;\n",
       "    }\n",
       "\n",
       "    .dataframe thead th {\n",
       "        text-align: right;\n",
       "    }\n",
       "</style>\n",
       "<table border=\"1\" class=\"dataframe\">\n",
       "  <thead>\n",
       "    <tr style=\"text-align: right;\">\n",
       "      <th></th>\n",
       "      <th>col1</th>\n",
       "      <th>col2</th>\n",
       "      <th>col3</th>\n",
       "      <th>col4</th>\n",
       "    </tr>\n",
       "  </thead>\n",
       "  <tbody>\n",
       "    <tr>\n",
       "      <th>0</th>\n",
       "      <td>1</td>\n",
       "      <td>10</td>\n",
       "      <td>4</td>\n",
       "      <td>40</td>\n",
       "    </tr>\n",
       "    <tr>\n",
       "      <th>1</th>\n",
       "      <td>2</td>\n",
       "      <td>20</td>\n",
       "      <td>5</td>\n",
       "      <td>50</td>\n",
       "    </tr>\n",
       "    <tr>\n",
       "      <th>2</th>\n",
       "      <td>3</td>\n",
       "      <td>30</td>\n",
       "      <td>6</td>\n",
       "      <td>60</td>\n",
       "    </tr>\n",
       "  </tbody>\n",
       "</table>\n",
       "</div>"
      ],
      "text/plain": [
       "   col1  col2  col3  col4\n",
       "0     1    10     4    40\n",
       "1     2    20     5    50\n",
       "2     3    30     6    60"
      ]
     },
     "execution_count": 26,
     "metadata": {},
     "output_type": "execute_result"
    }
   ],
   "source": [
    "df = pd.merge(df1, df2, left_index=True, right_index=True)\n",
    "df"
   ]
  }
 ],
 "metadata": {
  "colab": {
   "provenance": []
  },
  "kernelspec": {
   "display_name": "Python 3 (ipykernel)",
   "language": "python",
   "name": "python3"
  },
  "language_info": {
   "codemirror_mode": {
    "name": "ipython",
    "version": 3
   },
   "file_extension": ".py",
   "mimetype": "text/x-python",
   "name": "python",
   "nbconvert_exporter": "python",
   "pygments_lexer": "ipython3",
   "version": "3.9.7"
  }
 },
 "nbformat": 4,
 "nbformat_minor": 1
}
