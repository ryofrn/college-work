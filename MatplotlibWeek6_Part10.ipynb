{
  "cells": [
    {
      "attachments": {},
      "cell_type": "markdown",
      "metadata": {
        "id": "DQ32M6yY043l"
      },
      "source": [
        "# **Matplotlib Week 06**"
      ]
    },
    {
      "attachments": {},
      "cell_type": "markdown",
      "metadata": {
        "id": "k4vd9laC1CX_"
      },
      "source": [
        "# **Matplotlib 10 : Belajar Box Plot | Box Chart**"
      ]
    },
    {
      "cell_type": "markdown",
      "metadata": {
        "id": "n4l3MwSm1Omu"
      },
      "source": [
        "# Import modules"
      ]
    },
    {
      "cell_type": "code",
      "execution_count": 2,
      "metadata": {
        "id": "a8-P_HBDzxTA"
      },
      "outputs": [],
      "source": [
        "# Magic command\n",
        "%matplotlib inline"
      ]
    },
    {
      "cell_type": "code",
      "execution_count": 3,
      "metadata": {
        "colab": {
          "base_uri": "https://localhost:8080/"
        },
        "id": "_wKQ-y8_1R6I",
        "outputId": "00a21ce6-db44-4185-8792-bd4d748e782a"
      },
      "outputs": [
        {
          "name": "stdout",
          "output_type": "stream",
          "text": [
            "3.2.2\n",
            "1.21.6\n"
          ]
        }
      ],
      "source": [
        "import matplotlib\n",
        "import matplotlib.pyplot as plt\n",
        "import numpy as np\n",
        "\n",
        "# Cek versi\n",
        "print(matplotlib.__version__)\n",
        "print(np.__version__)"
      ]
    },
    {
      "cell_type": "markdown",
      "metadata": {
        "id": "9n-IdROe1an-"
      },
      "source": [
        "### Sample Dataset\n",
        "- Dalam sample Dataset ini data yang digunakan adalah data random\n",
        "- Menghasilkan sekumpulan bilangan acak dengan dsitribusi normal\n",
        "- Parameter loc merupakan titik tengah / mean dari distribusi normal\n",
        "- parameter scale merupakan sebaran data/ standard deviasi\n",
        "- parameter size merupakan jumlah data point yang ingin dihasilkan"
      ]
    },
    {
      "cell_type": "code",
      "execution_count": 4,
      "metadata": {
        "colab": {
          "base_uri": "https://localhost:8080/"
        },
        "id": "7949F18z2H30",
        "outputId": "8f705919-3beb-4824-ebb5-90025558137c"
      },
      "outputs": [
        {
          "data": {
            "text/plain": [
              "array([ 95.83242153,  99.43733173,  78.63803904, 116.40270808,\n",
              "        82.06564415,  91.58252634, 105.02881417,  87.54711913,\n",
              "        89.42047781,  90.90992385, 105.51454045, 122.92208013,\n",
              "       100.41539393,  88.82074555, 105.39058321,  94.038403  ,\n",
              "        99.80869503, 111.7500122 ,  92.52129051, 100.09025251,\n",
              "        91.21892107,  98.4356583 , 102.56570452,  90.11220951,\n",
              "        96.61178034,  97.63815969,  93.62344988,  88.12387714,\n",
              "        85.78782773,  98.46504804,  97.3094304 , 122.31366789,\n",
              "        75.65232423, 101.12726505, 103.70444537, 113.59633863,\n",
              "       105.01857207,  91.55786296, 100.00009761, 105.42352572,\n",
              "        96.86491803, 107.71011738,  81.31909345, 117.31184666,\n",
              "       114.67678011,  96.64322661, 106.1134078 , 100.47970592,\n",
              "        91.70864711, 100.87710218, 110.00365887,  96.18907482,\n",
              "        96.24330577,  99.25529237, 104.3349633 , 112.7837923 ,\n",
              "        93.65320695, 105.08396243, 102.16116006,  81.41387614,\n",
              "        95.80683518,  98.67671102,  99.6042976 , 103.26003433,\n",
              "        79.59676951, 100.46255523,  93.22324423,  85.60560973,\n",
              "       105.2429643 , 107.35279576,  93.46749732, 108.42456282,\n",
              "        96.18483518, 100.66489009,  89.01261053, 115.84487056,\n",
              "        73.40550544,  99.08547377, 106.95119605,  79.66533454,\n",
              "        98.10530735,  99.22781335, 108.24703005, 112.48212921,\n",
              "        95.96107731,  86.15481333, 113.67235424, 112.17885633,\n",
              "        95.37994652, 103.50888494, 103.81866234, 105.66275441,\n",
              "       102.04207979, 114.06696242,  82.62040496, 110.40823953,\n",
              "       103.8047197 ,  97.82864731, 111.73531498,  76.56396809,\n",
              "       111.61521491, 103.86078048,  88.66866726, 104.33092555,\n",
              "        96.95913561, 125.85294868, 118.35332723, 104.40689872,\n",
              "        92.80746159,  94.16585405,  96.74950372,  94.39765494,\n",
              "        90.97753932,  94.09027725,  97.23820508,  94.83116106,\n",
              "        93.0141005 ,  90.71108075, 125.50438236,  85.26826752,\n",
              "        89.78585269, 104.32395701,  96.7641993 , 104.23824708,\n",
              "       107.99179995, 112.62613663, 107.51964849,  90.06239017,\n",
              "       111.09143281,  82.35082272,  98.85578703,  95.01825806,\n",
              "        89.39200964, 105.91666521,  98.16743426, 110.19854729,\n",
              "        85.17534522, 108.46311892, 104.97940148, 101.26504175,\n",
              "        85.81189449,  97.48225882,  84.53325389,  79.17348064,\n",
              "       132.79745401, 109.7086132 , 117.92592852,  95.70986681,\n",
              "       106.9619798 , 106.97416272, 106.01515814, 100.03659491,\n",
              "        97.71752442,  79.30387737, 106.10144086, 104.234969  ,\n",
              "       111.17886733,  97.25757911, 117.41812188,  95.52499124,\n",
              "        87.44572782, 109.38163671,  95.3165374 ,  87.45279693,\n",
              "       101.24823646, 107.56502143, 102.41439629, 104.97425649,\n",
              "       141.08692624, 108.21120877, 115.31760316,  80.14154226,\n",
              "       103.65053516, 107.74082033,  96.35520908,  91.24020522,\n",
              "       103.96520159,  96.85382564,  94.06244417, 111.49500568,\n",
              "       113.35566168, 103.02629336,  95.45772145, 105.14370717,\n",
              "       108.29458431, 106.30621967,  85.4663565 ,  96.61982223,\n",
              "       103.59133332, 106.22220414, 109.60781945, 107.58370347,\n",
              "        88.65681517,  92.92579112,  87.78570835, 118.04476642,\n",
              "       101.80409807, 105.53164274, 110.33029066,  96.70997565])"
            ]
          },
          "execution_count": 4,
          "metadata": {},
          "output_type": "execute_result"
        }
      ],
      "source": [
        "np.random.seed(2)\n",
        "data = np.random.normal(loc=100, scale=10, size=200)\n",
        "data"
      ]
    },
    {
      "cell_type": "markdown",
      "metadata": {
        "id": "u0hP7fQA2KZK"
      },
      "source": [
        "### Simple Box Plot\n",
        "- Menggunakan fungsi plt.boxplot()\n",
        "- Setidaknya butuh 1 parameter, kali ini data.\n",
        "- Membaca simbol box plot:\n",
        "  - Garis tengah yang bukan berwarna hitam menandakan median/ quartile 2;\n",
        "  - Garis pinggir kotak merepresentasikan quartile 1 dan 3;\n",
        "  - Garis diatas dan dibawah merepresentasikan nilai tertinggi dan terendah dalam ambang batas 1.5 IQR (interquartile range);\n",
        "Penanda bulat menandakan outlier pada data kita.Maksudnya adalah nilai yang memiliki jangkauan diluar 1.5 IQR."
      ]
    },
    {
      "cell_type": "code",
      "execution_count": 5,
      "metadata": {
        "colab": {
          "base_uri": "https://localhost:8080/",
          "height": 295
        },
        "id": "K2qNriNI1Z48",
        "outputId": "a7793f9e-07eb-4823-df54-c4f9a95f26bf"
      },
      "outputs": [
        {
          "data": {
            "image/png": "[encoded data removed]",
            "text/plain": [
              "<Figure size 432x288 with 1 Axes>"
            ]
          },
          "metadata": {
            "needs_background": "light"
          },
          "output_type": "display_data"
        }
      ],
      "source": [
        "plt.boxplot(data, labels=['Data'])\n",
        "\n",
        "plt.title('Simple Box Plot')\n",
        "plt.xlabel('Sumbu X')\n",
        "plt.ylabel('Sumbu Y')\n",
        "\n",
        "# Menampilkan garis bantu\n",
        "plt.grid()\n",
        "\n",
        "plt.show()"
      ]
    },
    {
      "cell_type": "markdown",
      "metadata": {
        "id": "4Z2Wgajx3zKE"
      },
      "source": [
        "### Notched Box Plot\n",
        "- aat parameter notch diberi nilai true maka plot akan berubah menjadi notched box plot\n",
        "- Bedanya ada penanda > dan < ."
      ]
    },
    {
      "cell_type": "code",
      "execution_count": 6,
      "metadata": {
        "colab": {
          "base_uri": "https://localhost:8080/",
          "height": 295
        },
        "id": "d2pAWEcx1Tcd",
        "outputId": "3caf7b24-0c7f-4ce2-c695-edf8df0bcc7d"
      },
      "outputs": [
        {
          "data": {
            "image/png": "[encoded data removed]",
            "text/plain": [
              "<Figure size 432x288 with 1 Axes>"
            ]
          },
          "metadata": {
            "needs_background": "light"
          },
          "output_type": "display_data"
        }
      ],
      "source": [
        "plt.boxplot(data, labels=['Data'], notch=True)\n",
        "\n",
        "plt.title('Notched Box Plot')\n",
        "plt.xlabel('Sumbu X')\n",
        "plt.ylabel('Sumbu Y')\n",
        "\n",
        "plt.show()"
      ]
    },
    {
      "cell_type": "markdown",
      "metadata": {
        "id": "ckP8jYtT4B4M"
      },
      "source": [
        "### Pengaturan Marker untuk Outlier\n",
        "- Outliers pada matplotlib juga dikenal sebagai flier.\n",
        "- Untuk menghilangkan fliers kita bisa menambahkan parameter showfliers=false.\n",
        "- untuk memodifikasi kita bisa menambahkan parameter flierprops={}"
      ]
    },
    {
      "cell_type": "code",
      "execution_count": 7,
      "metadata": {
        "colab": {
          "base_uri": "https://localhost:8080/",
          "height": 295
        },
        "id": "dCTOHQwC4GHv",
        "outputId": "c2750eea-f90b-4b52-bbc8-4878ad2cb379"
      },
      "outputs": [
        {
          "data": {
            "image/png": "[encoded data removed]",
            "text/plain": [
              "<Figure size 432x288 with 1 Axes>"
            ]
          },
          "metadata": {
            "needs_background": "light"
          },
          "output_type": "display_data"
        }
      ],
      "source": [
        "plt.boxplot(data, \n",
        "            labels=['Data'],\n",
        "            showfliers=True, \n",
        "            flierprops={'markerfacecolor':'g', 'marker':'s'}) # r = red, g = green, s = square, d = diamond\n",
        "\n",
        "plt.title('Pengaturan Marker')\n",
        "plt.xlabel('Sumbu X')\n",
        "plt.ylabel('Sumbu Y')\n",
        "\n",
        "plt.show()"
      ]
    },
    {
      "cell_type": "markdown",
      "metadata": {
        "id": "347OVY3I4Hrf"
      },
      "source": [
        "### Horisontal Box Plot\n",
        "- Untuk mengubah tampilan menjadi horizontal kita hanya perlu menggunakan parameter vert.\n",
        "- Vert untuk vertikal."
      ]
    },
    {
      "cell_type": "code",
      "execution_count": 8,
      "metadata": {
        "colab": {
          "base_uri": "https://localhost:8080/",
          "height": 295
        },
        "id": "MzzgU1Ra4PKS",
        "outputId": "0ea599c5-299a-41ad-c8c4-19ca8b670a25"
      },
      "outputs": [
        {
          "data": {
            "image/png": "[encoded data removed]",
            "text/plain": [
              "<Figure size 432x288 with 1 Axes>"
            ]
          },
          "metadata": {
            "needs_background": "light"
          },
          "output_type": "display_data"
        }
      ],
      "source": [
        "plt.boxplot(data, labels=['Data'], vert=False)\n",
        "\n",
        "plt.title('Horisontal Box Plot')\n",
        "plt.xlabel('Sumbu X')\n",
        "plt.ylabel('Sumbu Y')\n",
        "\n",
        "plt.show()"
      ]
    },
    {
      "cell_type": "markdown",
      "metadata": {
        "id": "3anpmP2f4R2n"
      },
      "source": [
        "### Multiple Box Plot\n",
        "- Membuat 4 distribusi normal\n",
        "- Kemudian dimasukkan kedalam list.\n",
        "- Label juga merupakan list.\n",
        "- Untuk merubah kedalam boxplot kita dapat menggunakan cara yang sama seperti cara diatas."
      ]
    },
    {
      "cell_type": "code",
      "execution_count": 9,
      "metadata": {
        "id": "raIdBP3f5Bhd"
      },
      "outputs": [],
      "source": [
        "np.random.seed(10)\n",
        "data1 = np.random.normal(100, 10, 200)\n",
        "data2 = np.random.normal(80, 30, 200)\n",
        "data3 = np.random.normal(90, 20, 200)\n",
        "data4 = np.random.normal(70, 25, 200)\n",
        "\n",
        "data = [data1, data2, data3, data4]\n",
        "labels = ['Data 1', 'Data 2', 'Data 3', 'Data 4']"
      ]
    },
    {
      "cell_type": "code",
      "execution_count": 10,
      "metadata": {
        "colab": {
          "base_uri": "https://localhost:8080/",
          "height": 295
        },
        "id": "ZpxgGTAy5Ra5",
        "outputId": "2f9831ed-c496-4a1d-d41b-00d844c0faf5"
      },
      "outputs": [
        {
          "data": {
            "image/png": "[encoded data removed]",
            "text/plain": [
              "<Figure size 432x288 with 1 Axes>"
            ]
          },
          "metadata": {
            "needs_background": "light"
          },
          "output_type": "display_data"
        }
      ],
      "source": [
        "plt.boxplot(data, labels=labels)\n",
        "\n",
        "plt.title('Multiple Box Plot')\n",
        "plt.xlabel('Sumbu X')\n",
        "plt.ylabel('Sumbu Y')\n",
        "\n",
        "plt.show()"
      ]
    }
  ],
  "metadata": {
    "colab": {
      "provenance": []
    },
    "kernelspec": {
      "display_name": "Python 3",
      "name": "python3"
    },
    "language_info": {
      "name": "python"
    }
  },
  "nbformat": 4,
  "nbformat_minor": 0
}
