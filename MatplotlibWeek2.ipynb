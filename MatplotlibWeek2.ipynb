{
  "nbformat": 4,
  "nbformat_minor": 0,
  "metadata": {
    "colab": {
      "provenance": []
    },
    "kernelspec": {
      "name": "python3",
      "display_name": "Python 3"
    },
    "language_info": {
      "name": "python"
    }
  },
  "cells": [
    {
      "cell_type": "markdown",
      "source": [
        "#MatPlotLib Week 2"
      ],
      "metadata": {
        "id": "1C3Fl2r4c9y6"
      }
    },
    {
      "cell_type": "markdown",
      "source": [
        "# Pengenalan pyplot\n",
        "- pyplot merupakan koleksi atau kumpulan fungsi yang menjadikan Matplotlib dapat bekerja menyerupai MATLAB\n",
        "- pyplot API secara umum less-flexible bila dibandingkan object-oriented API."
      ],
      "metadata": {
        "id": "_kZr9YcGg_3u"
      }
    },
    {
      "cell_type": "markdown",
      "source": [
        "#Import Modules\n",
        "%matplotlib inline digunakan agar setiap grafik ditampilkan secara ‘inline’, dimana itu akan ditampilkan langsung pada cell notebook."
      ],
      "metadata": {
        "id": "zwJWtMbUdURQ"
      }
    },
    {
      "cell_type": "code",
      "execution_count": null,
      "metadata": {
        "id": "TQZo8AvVblKi"
      },
      "outputs": [],
      "source": [
        "%matplotlib inline"
      ]
    },
    {
      "cell_type": "code",
      "source": [
        "import matplotlib\n",
        "import matplotlib.pyplot as plt\n",
        "import numpy as np\n",
        "\n",
        "print(matplotlib.__version__)\n",
        "print(np.__version__)"
      ],
      "metadata": {
        "colab": {
          "base_uri": "https://localhost:8080/"
        },
        "id": "MAy6N9scdamO",
        "outputId": "3eca37d5-0a2f-483c-cf0e-729a5dd9993b"
      },
      "execution_count": 1,
      "outputs": [
        {
          "output_type": "stream",
          "name": "stdout",
          "text": [
            "3.2.2\n",
            "1.21.6\n"
          ]
        }
      ]
    },
    {
      "cell_type": "markdown",
      "source": [
        "#Membuat Plotting Sederhana\n",
        "\n",
        "Fungsi show() digunakan untuk menghilangkan output yang tidak perlu"
      ],
      "metadata": {
        "id": "KASJulyye9Fy"
      }
    },
    {
      "cell_type": "code",
      "source": [
        "plt.plot([2, 5, 7, 8])\n",
        "plt.ylabel('sumbu y')\n",
        "plt.show()"
      ],
      "metadata": {
        "colab": {
          "base_uri": "https://localhost:8080/",
          "height": 265
        },
        "id": "uKdaGPDmfGIk",
        "outputId": "75024d18-cbc8-4401-bca5-09dc36bc9ade"
      },
      "execution_count": 2,
      "outputs": [
        {
          "output_type": "display_data",
          "data": {
            "text/plain": [
              "<Figure size 432x288 with 1 Axes>"
            ],
            "image/png": "[encoded data removed]"
          },
          "metadata": {
            "needs_background": "light"
          }
        }
      ]
    },
    {
      "cell_type": "markdown",
      "source": [
        "- Pemanggilan fungsi plot() dapat dilakukan dengan menyertakan hanya sebuah deret bilangan (list/array) ataupun dua buah deret bilangan (list/array).\n",
        "\n",
        "- Bila pemanggilan hanya menyertakan sebuah deret bilangan, maka nilai pada deret bilangan tersebut akan dijadikan data point untuk nilai pada sumbu y; sedangkan nilai pada sumbu x akan secara otomatis dibuatkan sebuah deret bilangan terutut dengan nilai dimulai dari nol."
      ],
      "metadata": {
        "id": "g3O0iFNYf1Ob"
      }
    },
    {
      "cell_type": "code",
      "source": [
        "plt.plot([2, 3, 4, 7], [5, 4, 2, 16])\n",
        "plt.show()"
      ],
      "metadata": {
        "colab": {
          "base_uri": "https://localhost:8080/",
          "height": 265
        },
        "id": "a8nZebC1f-mj",
        "outputId": "1fef6811-55ba-4f7d-9686-b09f11e2e4fa"
      },
      "execution_count": 3,
      "outputs": [
        {
          "output_type": "display_data",
          "data": {
            "text/plain": [
              "<Figure size 432x288 with 1 Axes>"
            ],
            "image/png": "[encoded data removed]"
          },
          "metadata": {
            "needs_background": "light"
          }
        }
      ]
    },
    {
      "cell_type": "markdown",
      "source": [
        "- Pada bagian deret bilangan pertama yaitu [2, 3, 4, 7], akan dijadikan data point untuk nilai pada sumbu x.\n",
        "- Pada deret bilangan kedua yaitu [5, 4, 2, 16], akan dijadikan data point untuk nilai pada sumbu y.\n",
        "- Deret-deret tersebut dapat kita baca sebagai [(2,5), (3,4), (4,2), (7,16)]"
      ],
      "metadata": {
        "id": "-dbses5fhuSE"
      }
    },
    {
      "cell_type": "markdown",
      "source": [
        "#Pengaturan Format pada plot\n",
        "- Selain menyertakan dua buah deret bilangan sebagai parameter untuk sumbu x dan y, terdapat parameter ketiga yang bisa kita sertakan untuk mengatur warna dan jenis plotting.\n",
        "- Pengaturan parameter ketiga ini sepenuhnya mengadopsi gaya formatting pada MATLAB.\n",
        "- Nilai default untuk parameter ketiga ini adalah 'b-'.\n",
        "- Pemanggilan fungsi axis() menyertakan sebuah list [xmin, xmax, ymin, ymax]."
      ],
      "metadata": {
        "id": "uV2Jum4Nh6Zv"
      }
    },
    {
      "cell_type": "code",
      "source": [
        "plt.plot([1, 2, 3, 4], [1, 4, 9, 16], 'go')\n",
        "plt.axis([0, 6, 0, 20])\n",
        "plt.show()"
      ],
      "metadata": {
        "colab": {
          "base_uri": "https://localhost:8080/",
          "height": 269
        },
        "id": "jrUu4KKriacl",
        "outputId": "8c8a5a18-1d60-4354-df72-3bd89eaa8d39"
      },
      "execution_count": 4,
      "outputs": [
        {
          "output_type": "display_data",
          "data": {
            "text/plain": [
              "<Figure size 432x288 with 1 Axes>"
            ],
            "image/png": "[encoded data removed]"
          },
          "metadata": {
            "needs_background": "light"
          }
        }
      ]
    },
    {
      "cell_type": "markdown",
      "source": [
        "#Multi plot dalam Satu Pemanggilan Fungsi plot()\n",
        "- Fungsi arange() memiliki parameter (min_value, max_value, step_value)\n",
        "- Nilai 0. dan 5. menandakan bahwa mereka masing-masing bernilai floating point yaitu 0f dan 5f.\n",
        "- Nilai 0. dan 5. merepresentasikan nilai terendah dan nilai tertinggi."
      ],
      "metadata": {
        "id": "SeSXqGgMjF6_"
      }
    },
    {
      "cell_type": "code",
      "source": [
        "t = np.arange(0., 5., 0.2)\n",
        "t"
      ],
      "metadata": {
        "colab": {
          "base_uri": "https://localhost:8080/"
        },
        "id": "4ySskjmkkA7V",
        "outputId": "7ebb7363-3386-4ee3-ad94-1a41f54877fd"
      },
      "execution_count": 5,
      "outputs": [
        {
          "output_type": "execute_result",
          "data": {
            "text/plain": [
              "array([0. , 0.2, 0.4, 0.6, 0.8, 1. , 1.2, 1.4, 1.6, 1.8, 2. , 2.2, 2.4,\n",
              "       2.6, 2.8, 3. , 3.2, 3.4, 3.6, 3.8, 4. , 4.2, 4.4, 4.6, 4.8])"
            ]
          },
          "metadata": {},
          "execution_count": 5
        }
      ]
    },
    {
      "cell_type": "markdown",
      "source": [
        "- Untuk membuat plot dengan garis putus-putus kita dapat menggunakan simbol --.\n",
        "- Untuk membuat plot dengan marker kotak kita dapat menggunakan simbol s (square).\n",
        "- Untuk membuat plot dengan marker segitiga kita dapat menggunakan simbol ^."
      ],
      "metadata": {
        "id": "MBbctLRmkK7v"
      }
    },
    {
      "cell_type": "code",
      "source": [
        "plt.plot(t, t, 'r--')\n",
        "plt.plot(t, t**2, 'bs')\n",
        "plt.plot(t, t**3, 'g^')\n",
        "plt.show()"
      ],
      "metadata": {
        "colab": {
          "base_uri": "https://localhost:8080/",
          "height": 265
        },
        "id": "Xb6cglmLkSzL",
        "outputId": "a022a6f0-f01c-49b7-cadc-9264862ab047"
      },
      "execution_count": 6,
      "outputs": [
        {
          "output_type": "display_data",
          "data": {
            "text/plain": [
              "<Figure size 432x288 with 1 Axes>"
            ],
            "image/png": "[encoded data removed]"
          },
          "metadata": {
            "needs_background": "light"
          }
        }
      ]
    },
    {
      "cell_type": "markdown",
      "source": [
        "Kita juga dapat melakukan multi plot dalam satu pemanggilan fungsi plot()"
      ],
      "metadata": {
        "id": "ndylDEB2kXd4"
      }
    },
    {
      "cell_type": "code",
      "source": [
        "plt.plot(t, t, 'r--',    \n",
        "         t, t**2, 'bs',  \n",
        "         t, t**3, 'g^')  \n",
        "plt.show()"
      ],
      "metadata": {
        "colab": {
          "base_uri": "https://localhost:8080/",
          "height": 265
        },
        "id": "hUzVzSSDkZVz",
        "outputId": "53f839d6-040e-49bb-e254-5f5dd5821c82"
      },
      "execution_count": 7,
      "outputs": [
        {
          "output_type": "display_data",
          "data": {
            "text/plain": [
              "<Figure size 432x288 with 1 Axes>"
            ],
            "image/png": "[encoded data removed]"
          },
          "metadata": {
            "needs_background": "light"
          }
        }
      ]
    },
    {
      "cell_type": "markdown",
      "source": [
        "#Plotting dengan keywords\n",
        "Matplotlib juga memungkinkan kita untuk melakukan plotting sekumpulan nilai yang tersimpan dalam struktur data yang disertai keywords argument (kwargs) seperti pada dictionary dan Pandas DataFrame."
      ],
      "metadata": {
        "id": "qijWIl-Zkwn6"
      }
    },
    {
      "cell_type": "code",
      "source": [
        "data = {'a': np.arange(50), \n",
        "        'c': np.random.randint(0, 50, 50), \n",
        "        'd': np.random.randn(50)} \n",
        "data['b'] = data['a'] + 10 * np.random.randn(50) \n",
        "data['d'] = np.abs(data['d']) * 100 \n",
        "\n",
        "data"
      ],
      "metadata": {
        "colab": {
          "base_uri": "https://localhost:8080/"
        },
        "id": "22BGISo-kz5P",
        "outputId": "80b711cd-5985-497d-d5c8-e96f8cd3c6c9"
      },
      "execution_count": 8,
      "outputs": [
        {
          "output_type": "execute_result",
          "data": {
            "text/plain": [
              "{'a': array([ 0,  1,  2,  3,  4,  5,  6,  7,  8,  9, 10, 11, 12, 13, 14, 15, 16,\n",
              "        17, 18, 19, 20, 21, 22, 23, 24, 25, 26, 27, 28, 29, 30, 31, 32, 33,\n",
              "        34, 35, 36, 37, 38, 39, 40, 41, 42, 43, 44, 45, 46, 47, 48, 49]),\n",
              " 'c': array([34, 35, 43, 10, 11, 49, 41,  5, 20, 39, 21, 30, 31, 28,  8, 23,  2,\n",
              "        48,  9, 18, 14, 13, 25, 29, 42, 35,  1,  3, 11, 44,  9, 36, 48, 41,\n",
              "        11, 38,  1, 21, 19,  8,  5,  4,  1, 33, 43, 26, 42, 25, 47, 32]),\n",
              " 'd': array([ 72.64512607,  77.73564396,  54.62741267,  21.54213103,\n",
              "        177.0999611 , 147.38164117,  74.77201319,  29.43735621,\n",
              "         40.53743342,   2.1614258 ,  21.71345697,  69.35962345,\n",
              "        192.92890241, 112.6849951 ,  17.07818438,   8.91251031,\n",
              "         39.30186663,   6.93456555,  25.96150287,  29.02416207,\n",
              "         70.82765814,  25.98280396,  26.01388789,  71.39370354,\n",
              "         54.92252332, 129.39642554,  27.47285959,   9.16882428,\n",
              "         12.99778216,  88.93002442,  40.71084163,  29.62402377,\n",
              "        107.78804685,  38.73923801,  64.01898846, 136.26005329,\n",
              "        112.99262929, 141.59450009, 169.54557706,  45.33619082,\n",
              "         87.50867744,  35.38980136,  18.24244156,  31.75004272,\n",
              "         71.9869266 ,   2.45582979,  57.19875541, 114.36945757,\n",
              "        191.8440647 ,  24.50176753]),\n",
              " 'b': array([15.29746056,  7.20529539,  6.02458912, -2.5000392 ,  5.45341794,\n",
              "         8.79782559, 14.00933993,  3.64334877, -0.50785531,  8.53326616,\n",
              "        -0.86413468,  1.86109091,  7.92593458, 16.9819564 , 28.1017842 ,\n",
              "        15.79693857,  5.7627426 , 18.08403198,  8.59964865, 12.87312939,\n",
              "        25.2103085 , 34.78724665, 17.78154618, 29.54210749, 22.76368845,\n",
              "        28.31276417, 40.38533895, 33.20127261, 47.15170907, 44.18143675,\n",
              "         6.9245834 , 54.56904727, 39.69764545, 33.66487912, 36.47777919,\n",
              "        26.35521881, 45.28759404, 34.1079159 , 26.10549659, 42.29240331,\n",
              "        49.11459539, 57.27622838, 37.63375432, 27.47300264, 53.1971762 ,\n",
              "        43.74494614, 42.35123107, 33.02037167, 51.33088736, 61.10800161])}"
            ]
          },
          "metadata": {},
          "execution_count": 8
        }
      ]
    },
    {
      "cell_type": "code",
      "source": [
        "plt.scatter('a', 'b', data=data) \n",
        "\n",
        "plt.xlabel('entry a') \n",
        "plt.ylabel('entry b')\n",
        "\n",
        "plt.show()"
      ],
      "metadata": {
        "colab": {
          "base_uri": "https://localhost:8080/",
          "height": 279
        },
        "id": "qCTQQ1_Zk-gx",
        "outputId": "c48b0746-7845-44d8-9249-fb744a027d23"
      },
      "execution_count": 9,
      "outputs": [
        {
          "output_type": "display_data",
          "data": {
            "text/plain": [
              "<Figure size 432x288 with 1 Axes>"
            ],
            "image/png": "[encoded data removed]"
          },
          "metadata": {
            "needs_background": "light"
          }
        }
      ]
    },
    {
      "cell_type": "code",
      "source": [
        "plt.scatter('a', 'b', c='c', s='d', data=data)\n",
        "plt.xlabel('entry a')\n",
        "plt.ylabel('entry b')\n",
        "plt.show()"
      ],
      "metadata": {
        "colab": {
          "base_uri": "https://localhost:8080/",
          "height": 279
        },
        "id": "GmAf4fe7lE4t",
        "outputId": "1c8c964a-b5f2-4667-e7a7-fc8fde9ba6f6"
      },
      "execution_count": 10,
      "outputs": [
        {
          "output_type": "display_data",
          "data": {
            "text/plain": [
              "<Figure size 432x288 with 1 Axes>"
            ],
            "image/png": "[encoded data removed]"
          },
          "metadata": {
            "needs_background": "light"
          }
        }
      ]
    },
    {
      "cell_type": "markdown",
      "source": [
        "#Plotting untuk tipe data categorical\n",
        "Matplotlib juga mendukung plotting untuk data dengan tipe kategori atau biasa dikenal dengan istilah categorical data atau categorical variables."
      ],
      "metadata": {
        "id": "2BYCyK0IlT5h"
      }
    },
    {
      "cell_type": "code",
      "source": [
        "names = ['group_a', 'group_b', 'group_c'] \n",
        "values = [1, 10, 100]"
      ],
      "metadata": {
        "id": "D1lZuUBHlXMs"
      },
      "execution_count": 12,
      "outputs": []
    },
    {
      "cell_type": "code",
      "source": [
        "plt.plot(names, values) \n",
        "plt.show()"
      ],
      "metadata": {
        "colab": {
          "base_uri": "https://localhost:8080/",
          "height": 266
        },
        "id": "nujczKwElatt",
        "outputId": "d7c328cb-af61-40e3-984e-20896751aa31"
      },
      "execution_count": 13,
      "outputs": [
        {
          "output_type": "display_data",
          "data": {
            "text/plain": [
              "<Figure size 432x288 with 1 Axes>"
            ],
            "image/png": "[encoded data removed]"
          },
          "metadata": {
            "needs_background": "light"
          }
        }
      ]
    },
    {
      "cell_type": "code",
      "source": [
        "plt.scatter(names, values) \n",
        "plt.show()"
      ],
      "metadata": {
        "colab": {
          "base_uri": "https://localhost:8080/",
          "height": 266
        },
        "id": "VIRyqaf-lijz",
        "outputId": "2e40ad55-7df3-4306-8f90-a89d91245a2b"
      },
      "execution_count": 14,
      "outputs": [
        {
          "output_type": "display_data",
          "data": {
            "text/plain": [
              "<Figure size 432x288 with 1 Axes>"
            ],
            "image/png": "[encoded data removed]"
          },
          "metadata": {
            "needs_background": "light"
          }
        }
      ]
    },
    {
      "cell_type": "code",
      "source": [
        "plt.bar(names, values) \n",
        "plt.show()"
      ],
      "metadata": {
        "colab": {
          "base_uri": "https://localhost:8080/",
          "height": 266
        },
        "id": "swWXx7P4lmBD",
        "outputId": "917fd77b-71cd-436b-c96d-7b41594ac175"
      },
      "execution_count": 15,
      "outputs": [
        {
          "output_type": "display_data",
          "data": {
            "text/plain": [
              "<Figure size 432x288 with 1 Axes>"
            ],
            "image/png": "[encoded data removed]"
          },
          "metadata": {
            "needs_background": "light"
          }
        }
      ]
    }
  ]
}