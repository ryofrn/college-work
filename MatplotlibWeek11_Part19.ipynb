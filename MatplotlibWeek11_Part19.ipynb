{
 "cells": [
  {
   "attachments": {},
   "cell_type": "markdown",
   "metadata": {
    "id": "ULe2ZwaJzeX3"
   },
   "source": [
    "# **Matplotlib Week 11**"
   ]
  },
  {
   "attachments": {},
   "cell_type": "markdown",
   "metadata": {
    "id": "OokysEWpz1Dd"
   },
   "source": [
    "## Matplotlib 19 : Animasi Pada Matplotlib"
   ]
  },
  {
   "cell_type": "markdown",
   "metadata": {
    "id": "EvQpyqz-zv5u"
   },
   "source": [
    "### Import modules"
   ]
  },
  {
   "cell_type": "code",
   "execution_count": 1,
   "metadata": {
    "id": "03cE6m3Lzdvt"
   },
   "outputs": [],
   "source": [
    "# Magic command\n",
    "%matplotlib inline"
   ]
  },
  {
   "cell_type": "code",
   "execution_count": 2,
   "metadata": {
    "colab": {
     "base_uri": "https://localhost:8080/"
    },
    "id": "bdCstdRpz5sg",
    "outputId": "445efb28-b962-4c59-becf-92291cdde5ec"
   },
   "outputs": [
    {
     "name": "stdout",
     "output_type": "stream",
     "text": [
      "3.4.3\n",
      "1.20.3\n"
     ]
    }
   ],
   "source": [
    "import matplotlib\n",
    "import matplotlib.pyplot as plt\n",
    "from matplotlib.animation import FuncAnimation\n",
    "from IPython import display\n",
    "import numpy as np\n",
    "\n",
    "# Cek versi\n",
    "print(matplotlib.__version__)\n",
    "print(np.__version__)"
   ]
  },
  {
   "cell_type": "markdown",
   "metadata": {
    "id": "MFUtjOLbz7Oh"
   },
   "source": [
    "### Review Figure\n",
    "- Membuat object figure dengan memanfaatkan plt.figure().\n",
    "- Menentukan limit batas sumbu x dari 0 sampai 8 dan sumbu y dari -4 sampai 2."
   ]
  },
  {
   "cell_type": "code",
   "execution_count": 3,
   "metadata": {
    "id": "8fP1I8Ua0Bl4"
   },
   "outputs": [
    {
     "name": "stdout",
     "output_type": "stream",
     "text": [
      "[<matplotlib.lines.Line2D object at 0x0000017BC39F6E20>]\n"
     ]
    },
    {
     "data": {
      "image/png": "[encoded data removed]",
      "text/plain": [
       "<Figure size 432x288 with 1 Axes>"
      ]
     },
     "metadata": {
      "needs_background": "light"
     },
     "output_type": "display_data"
    }
   ],
   "source": [
    "\n",
    "fig = plt.figure()\n",
    "plt.xlim((0, 8))\n",
    "plt.ylim((-4, 2))\n",
    "\n",
    "print(plt.plot([]))"
   ]
  },
  {
   "cell_type": "markdown",
   "metadata": {
    "id": "1D2q7bEv0LKW"
   },
   "source": [
    "Animasi pada Matplotlib\n",
    "- Untuk mengendalikan garis pada objek matplotlib.lines.Line2D kita dapat mengakes index ke-0 nya.\n",
    "- Fungsi line.set_date() digunakan untuk memanggil garis yang telah ditentukan sebelumnya.\n",
    "- Untuk menghasilkan animasi kita dapat memanggil fungsi FuncAnimation().\n",
    "- Parameter frames pada fungsi tersebut digunakan untuk mengatur frame yang dihasilkan setiap detiknya.\n",
    "- Seperti yang kita ketahui semakin tinggi FPS (frame per second) semakin halus animasi yang dihasilkan.\n",
    "- Parameter interval digunakan untuk mengatur kecepatan animasi.\n",
    "- Semakin kecil semakin cepat animasi yang dihasilkan.\n",
    "- Fungsi anim.to_html5_video() digunakan untuk mengkonversi animasi ke html5 video\n",
    "- Fungsi display.HTML(video) digunakan untuk html5 video ke halam web broswer kita\n",
    "Untuk melihat hasilnya, pastikan ffmpeg sudah terinstal."
   ]
  },
  {
   "cell_type": "code",
   "execution_count": null,
   "metadata": {},
   "outputs": [],
   "source": [
    "fig = plt.figure()\n",
    "plt.xlim((0, 4))\n",
    "plt.ylim((-2, 2))\n",
    "\n",
    "line = plt.plot([])[0]\n",
    "\n",
    "\n",
    "def animate(i):\n",
    "    x = np.linspace(0, 4, 1000)\n",
    "    y = np.sin(2 * np.pi * (x - 0.01 * i))\n",
    "    line.set_data(x, y)\n",
    "    return line,\n",
    "\n",
    "\n",
    "anim = FuncAnimation(fig, animate, frames=200, interval=50)\n",
    "\n",
    "video = anim.to_html5_video()\n",
    "html = display.HTML(video)\n",
    "display.display(html)\n",
    "\n",
    "plt.close()\n"
   ]
  }
 ],
 "metadata": {
  "colab": {
   "provenance": []
  },
  "kernelspec": {
   "display_name": "Python 3 (ipykernel)",
   "language": "python",
   "name": "python3"
  },
  "language_info": {
   "codemirror_mode": {
    "name": "ipython",
    "version": 3
   },
   "file_extension": ".py",
   "mimetype": "text/x-python",
   "name": "python",
   "nbconvert_exporter": "python",
   "pygments_lexer": "ipython3",
   "version": "3.9.7"
  }
 },
 "nbformat": 4,
 "nbformat_minor": 1
}
