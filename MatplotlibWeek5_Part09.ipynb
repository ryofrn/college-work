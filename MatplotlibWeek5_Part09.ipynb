{
  "cells": [
    {
      "attachments": {},
      "cell_type": "markdown",
      "id": "ea2d95ea",
      "metadata": {
        "id": "ea2d95ea"
      },
      "source": [
        "# **Matplotlib Week 05**"
      ]
    },
    {
      "attachments": {},
      "cell_type": "markdown",
      "id": "qlnDoP5SjDVD",
      "metadata": {
        "id": "qlnDoP5SjDVD"
      },
      "source": [
        "# **Matplotlib 09 : Matplotlib Style**"
      ]
    },
    {
      "cell_type": "markdown",
      "id": "fc144475",
      "metadata": {
        "id": "fc144475"
      },
      "source": [
        "# Import Modules"
      ]
    },
    {
      "cell_type": "code",
      "execution_count": 1,
      "id": "c4663321",
      "metadata": {
        "id": "c4663321"
      },
      "outputs": [],
      "source": [
        "#Magic command\n",
        "%matplotlib inline"
      ]
    },
    {
      "cell_type": "code",
      "execution_count": 2,
      "id": "a398d2a1",
      "metadata": {
        "colab": {
          "base_uri": "https://localhost:8080/"
        },
        "id": "a398d2a1",
        "outputId": "6a11ebeb-3863-4a00-80c3-c82ee5d02e70"
      },
      "outputs": [
        {
          "name": "stdout",
          "output_type": "stream",
          "text": [
            "3.2.2\n",
            "1.21.6\n"
          ]
        }
      ],
      "source": [
        "import matplotlib\n",
        "import matplotlib.pyplot as plt\n",
        "from matplotlib import style\n",
        "import numpy as np\n",
        "\n",
        "print(matplotlib.__version__)\n",
        "print(np.__version__)"
      ]
    },
    {
      "cell_type": "markdown",
      "id": "f5303e1e",
      "metadata": {
        "id": "f5303e1e"
      },
      "source": [
        "# Fungsi Plotting"
      ]
    },
    {
      "cell_type": "code",
      "execution_count": 3,
      "id": "7046fd38",
      "metadata": {
        "id": "7046fd38"
      },
      "outputs": [],
      "source": [
        "def gambar_barplot(): # digunakan untuk menampilkan suatu barplot.\n",
        "    data1 = [25,85, 75, 40, 60]\n",
        "    data2 = [40, 35, 20, 55, 10]\n",
        "    kategori = ['A', 'B', 'C', 'D', 'E']\n",
        "\n",
        "    x = np.arange(len(kategori))\n",
        "    \n",
        "    width = 0.35\n",
        "\n",
        "    plt.bar(x-width/2, data1, width, label='Data 1')\n",
        "    plt.bar(x+width/2, data2, width, label='Data 2')\n",
        "\n",
        "    plt.xticks(x, kategori)\n",
        "\n",
        "    plt.grid(linestyle='--', \n",
        "             linewidth=1, \n",
        "             axis='y',\n",
        "             alpha=0.75)\n",
        "\n",
        "    plt.xlabel('Kategori')\n",
        "    plt.ylabel('Jumlah')\n",
        "    plt.title('Contoh Grouped Bar Plot')\n",
        "\n",
        "    plt.legend()\n",
        "    plt.show()"
      ]
    },
    {
      "cell_type": "code",
      "execution_count": 4,
      "id": "c5e6ca81",
      "metadata": {
        "colab": {
          "base_uri": "https://localhost:8080/",
          "height": 295
        },
        "id": "c5e6ca81",
        "outputId": "95d3f93a-b454-44c4-dc1f-13da371e0712"
      },
      "outputs": [
        {
          "data": {
            "image/png": "[encoded data removed]",
            "text/plain": [
              "<Figure size 432x288 with 1 Axes>"
            ]
          },
          "metadata": {
            "needs_background": "light"
          },
          "output_type": "display_data"
        }
      ],
      "source": [
        "gambar_barplot()"
      ]
    },
    {
      "cell_type": "markdown",
      "id": "75f3b9f1",
      "metadata": {
        "id": "75f3b9f1"
      },
      "source": [
        "# Matplotlib Style"
      ]
    },
    {
      "cell_type": "markdown",
      "id": "78b2145b",
      "metadata": {
        "id": "78b2145b"
      },
      "source": [
        "- Untuk melihat daftar style apa saja yang dimiliki oleh matplotlib kita bisa menggunakan `plt.style.available`.\n",
        "- Secara default style yang digunakan adalah *classic*."
      ]
    },
    {
      "cell_type": "code",
      "execution_count": 5,
      "id": "9f19def3",
      "metadata": {
        "colab": {
          "base_uri": "https://localhost:8080/"
        },
        "id": "9f19def3",
        "outputId": "87f129bf-d59a-4211-f4be-64bd3078ced3"
      },
      "outputs": [
        {
          "data": {
            "text/plain": [
              "['Solarize_Light2',\n",
              " '_classic_test_patch',\n",
              " 'bmh',\n",
              " 'classic',\n",
              " 'dark_background',\n",
              " 'fast',\n",
              " 'fivethirtyeight',\n",
              " 'ggplot',\n",
              " 'grayscale',\n",
              " 'seaborn',\n",
              " 'seaborn-bright',\n",
              " 'seaborn-colorblind',\n",
              " 'seaborn-dark',\n",
              " 'seaborn-dark-palette',\n",
              " 'seaborn-darkgrid',\n",
              " 'seaborn-deep',\n",
              " 'seaborn-muted',\n",
              " 'seaborn-notebook',\n",
              " 'seaborn-paper',\n",
              " 'seaborn-pastel',\n",
              " 'seaborn-poster',\n",
              " 'seaborn-talk',\n",
              " 'seaborn-ticks',\n",
              " 'seaborn-white',\n",
              " 'seaborn-whitegrid',\n",
              " 'tableau-colorblind10']"
            ]
          },
          "execution_count": 5,
          "metadata": {},
          "output_type": "execute_result"
        }
      ],
      "source": [
        "plt.style.available"
      ]
    },
    {
      "cell_type": "markdown",
      "id": "6e22df17",
      "metadata": {
        "id": "6e22df17"
      },
      "source": [
        "- Untuk penggunaannya sangat mudah.\n",
        "- Kita hanya perlu memanggil `style.use()` dan dilewatkan oleh nama style yang diinginkan."
      ]
    },
    {
      "cell_type": "code",
      "execution_count": 6,
      "id": "9d6064a8",
      "metadata": {
        "colab": {
          "base_uri": "https://localhost:8080/",
          "height": 295
        },
        "id": "9d6064a8",
        "outputId": "236328ea-4bee-4a59-979f-851f98fc85f8"
      },
      "outputs": [
        {
          "data": {
            "image/png": "[encoded data removed]",
            "text/plain": [
              "<Figure size 432x288 with 1 Axes>"
            ]
          },
          "metadata": {},
          "output_type": "display_data"
        }
      ],
      "source": [
        "style.use('grayscale')\n",
        "gambar_barplot()"
      ]
    }
  ],
  "metadata": {
    "colab": {
      "provenance": []
    },
    "kernelspec": {
      "display_name": "Python 3",
      "language": "python",
      "name": "python3"
    },
    "language_info": {
      "codemirror_mode": {
        "name": "ipython",
        "version": 3
      },
      "file_extension": ".py",
      "mimetype": "text/x-python",
      "name": "python",
      "nbconvert_exporter": "python",
      "pygments_lexer": "ipython3",
      "version": "3.8.8"
    }
  },
  "nbformat": 4,
  "nbformat_minor": 5
}
