{
  "nbformat": 4,
  "nbformat_minor": 0,
  "metadata": {
    "colab": {
      "provenance": [],
      "collapsed_sections": []
    },
    "kernelspec": {
      "name": "python3",
      "display_name": "Python 3"
    },
    "language_info": {
      "name": "python"
    }
  },
  "cells": [
    {
      "cell_type": "markdown",
      "source": [
        "#Matplotlib Week 4\n",
        "\n",
        "#Matplotlib 05 : Belajar Bar Plot | Bar Chart\n",
        "\n",
        "Import Modules\n",
        "\n"
      ],
      "metadata": {
        "id": "kdQWFZkVR2DK"
      }
    },
    {
      "cell_type": "code",
      "execution_count": 1,
      "metadata": {
        "id": "aYAwS2GsRqrQ"
      },
      "outputs": [],
      "source": [
        "%matplotlib inline"
      ]
    },
    {
      "cell_type": "code",
      "source": [
        "import matplotlib\n",
        "import matplotlib.pyplot as plt\n",
        "import numpy as np\n",
        "\n",
        "print(matplotlib.__version__)\n",
        "print(np.__version__)"
      ],
      "metadata": {
        "colab": {
          "base_uri": "https://localhost:8080/"
        },
        "id": "K2HyOYRxSTmg",
        "outputId": "cddaf779-d191-418a-aac9-03114e2618dd"
      },
      "execution_count": 2,
      "outputs": [
        {
          "output_type": "stream",
          "name": "stdout",
          "text": [
            "3.2.2\n",
            "1.21.6\n"
          ]
        }
      ]
    },
    {
      "cell_type": "markdown",
      "source": [
        "Simple Bar Plot"
      ],
      "metadata": {
        "id": "RiJdQlZCSad9"
      }
    },
    {
      "cell_type": "code",
      "source": [
        "data = [25, 45, 55, 125, 225] #List of Int\n",
        "kategori = ['A', 'B', 'C', 'D', 'E']"
      ],
      "metadata": {
        "id": "TyNmwcL1SshV"
      },
      "execution_count": 3,
      "outputs": []
    },
    {
      "cell_type": "markdown",
      "source": [
        "- Bar plot biasanya digunakan untuk melakukan plotting data yang bersifat categorical atau discrete.\n",
        "- plt.bar() digunakan untuk membuat bar plot.\n",
        "- kategorical data adalah parameter akan digunakan sebagai label.\n",
        "- Numeric data adalah parameter yang akan digunakan sebagai nilai."
      ],
      "metadata": {
        "id": "J8hxsCBCSjqH"
      }
    },
    {
      "cell_type": "code",
      "source": [
        "plt.bar(kategori, data)\n",
        "plt.grid()\n",
        "\n",
        "plt.xlabel('Kategori')\n",
        "plt.ylabel('Jumlah')\n",
        "plt.title('Contoh Bar Plot')\n",
        "\n",
        "plt.show()"
      ],
      "metadata": {
        "colab": {
          "base_uri": "https://localhost:8080/",
          "height": 295
        },
        "id": "sAfuKSnISv8p",
        "outputId": "a83ddbd1-2045-4dd2-81d9-b52211efc1a9"
      },
      "execution_count": 4,
      "outputs": [
        {
          "output_type": "display_data",
          "data": {
            "text/plain": [
              "<Figure size 432x288 with 1 Axes>"
            ],
            "image/png": "[encoded data removed]"
          },
          "metadata": {
            "needs_background": "light"
          }
        }
      ]
    },
    {
      "cell_type": "markdown",
      "source": [
        "Pengaturan Grid dan Color"
      ],
      "metadata": {
        "id": "ROygK4PySzvC"
      }
    },
    {
      "cell_type": "code",
      "source": [
        "data = [25, 45, 55, 125, 225]\n",
        "kategori = ['A', 'B', 'C', 'D', 'E']"
      ],
      "metadata": {
        "id": "9Avy6vq-S4B4"
      },
      "execution_count": 5,
      "outputs": []
    },
    {
      "cell_type": "markdown",
      "source": [
        "-  Color dan alpha digunakan untuk mengatur warna dan opacity bar.\n",
        "- Linestyle dan linewidth digunakan untuk mengatur bentuk dan ketebalan garis.\n",
        "- Axis digunakan untuk mengatur garis agar dapat berasosiasi dengan sumbu.\n",
        "- Alpha digunakan untuk mengatur opacity garis bantu."
      ],
      "metadata": {
        "id": "48pBUOoWS9BO"
      }
    },
    {
      "cell_type": "code",
      "source": [
        "plt.bar(kategori, \n",
        "        data, \n",
        "        color='red', \n",
        "        alpha=0.25)\n",
        "\n",
        "plt.grid(linestyle='--', \n",
        "         linewidth=2, \n",
        "         axis='y', # pilihan: x, y, both\n",
        "         alpha=0.50)\n",
        "\n",
        "plt.xlabel('Kategori')\n",
        "plt.ylabel('Jumlah')\n",
        "plt.title('Contoh Bar Plot')\n",
        "\n",
        "plt.show()"
      ],
      "metadata": {
        "colab": {
          "base_uri": "https://localhost:8080/",
          "height": 295
        },
        "id": "YSVuOiJ1THFe",
        "outputId": "91a0dd9d-48b0-43bc-8c64-dd7557b86f42"
      },
      "execution_count": 6,
      "outputs": [
        {
          "output_type": "display_data",
          "data": {
            "text/plain": [
              "<Figure size 432x288 with 1 Axes>"
            ],
            "image/png": "[encoded data removed]"
          },
          "metadata": {
            "needs_background": "light"
          }
        }
      ]
    },
    {
      "cell_type": "markdown",
      "source": [
        "Horizontal Bar Plot\n",
        "\n",
        "- Jika kita ingin membuat bar plot secara horizontal kita dapat menggunakan fungsi plt.barh()."
      ],
      "metadata": {
        "id": "iEE-2FzQTJaQ"
      }
    },
    {
      "cell_type": "code",
      "source": [
        "data = [25, 45, 55, 125, 225]\n",
        "kategori = ['A', 'B', 'C', 'D', 'E']"
      ],
      "metadata": {
        "id": "ye778IaNTaLZ"
      },
      "execution_count": 7,
      "outputs": []
    },
    {
      "cell_type": "code",
      "source": [
        "plt.barh(kategori, data)\n",
        "\n",
        "plt.grid(linestyle='--', \n",
        "         linewidth=1, \n",
        "         axis='x',\n",
        "         alpha=0.75)\n",
        "\n",
        "plt.xlabel('Jumlah')\n",
        "plt.ylabel('Kategori')\n",
        "plt.title('Contoh Horisontal Bar Plot')\n",
        "\n",
        "plt.show()"
      ],
      "metadata": {
        "colab": {
          "base_uri": "https://localhost:8080/",
          "height": 295
        },
        "id": "kFYcHf4ETckU",
        "outputId": "ba9dd8a6-b19b-4c0b-e83e-e1d528cad175"
      },
      "execution_count": 8,
      "outputs": [
        {
          "output_type": "display_data",
          "data": {
            "text/plain": [
              "<Figure size 432x288 with 1 Axes>"
            ],
            "image/png": "[encoded data removed]"
          },
          "metadata": {
            "needs_background": "light"
          }
        }
      ]
    },
    {
      "cell_type": "markdown",
      "source": [
        "Stacked Bar Plot"
      ],
      "metadata": {
        "id": "NV_6_rAWThb0"
      }
    },
    {
      "cell_type": "code",
      "source": [
        "data1 = [25, 85, 75, 40, 60]\n",
        "data2 = [40, 35, 20, 55, 10]\n",
        "kategori = ['A', 'B', 'C', 'D', 'E']"
      ],
      "metadata": {
        "id": "zJdRGI8zT6P2"
      },
      "execution_count": 9,
      "outputs": []
    },
    {
      "cell_type": "code",
      "source": [
        "plt.bar(kategori, data1, label='Data 1')\n",
        "plt.bar(kategori, data2, label='Data 2', bottom=data1)\n",
        "\n",
        "plt.legend()\n",
        "\n",
        "plt.grid(linestyle='--', \n",
        "         linewidth=1, \n",
        "         axis='y',\n",
        "         alpha=0.75)\n",
        "\n",
        "plt.xlabel('Kategori')\n",
        "plt.ylabel('Jumlah')\n",
        "plt.title('Contoh Stacked Bar Plot')\n",
        "\n",
        "plt.show()"
      ],
      "metadata": {
        "colab": {
          "base_uri": "https://localhost:8080/",
          "height": 295
        },
        "id": "k-_TXLvST9T7",
        "outputId": "049c27de-ca8a-4933-a0c9-79dc38a42f8f"
      },
      "execution_count": 10,
      "outputs": [
        {
          "output_type": "display_data",
          "data": {
            "text/plain": [
              "<Figure size 432x288 with 1 Axes>"
            ],
            "image/png": "[encoded data removed]"
          },
          "metadata": {
            "needs_background": "light"
          }
        }
      ]
    },
    {
      "cell_type": "markdown",
      "source": [
        "Grouped Bar Plot"
      ],
      "metadata": {
        "id": "qY8UgifVUCE8"
      }
    },
    {
      "cell_type": "code",
      "source": [
        "data1 = [25,85, 75, 40, 60]\n",
        "data2 = [40, 35, 20, 55, 10]\n",
        "kategori = ['A', 'B', 'C', 'D', 'E']\n",
        "\n",
        "x = np.arange(len(kategori))\n",
        "x"
      ],
      "metadata": {
        "colab": {
          "base_uri": "https://localhost:8080/"
        },
        "id": "mvk7OvP3UKUE",
        "outputId": "7ce1f438-4897-4594-977b-e9e92d0423af"
      },
      "execution_count": 11,
      "outputs": [
        {
          "output_type": "execute_result",
          "data": {
            "text/plain": [
              "array([0, 1, 2, 3, 4])"
            ]
          },
          "metadata": {},
          "execution_count": 11
        }
      ]
    },
    {
      "cell_type": "markdown",
      "source": [
        "- Variabel x yang telah kita buat tadi akan menjadi titik tengah kedua barplot, sehingga, posisi data 1 yaitu x dikurangi oleh width dibagi dua. Dan, posisi data 2 yaitu X ditambah oleh width dibagi dua.\n",
        "- Parameter dibawah ini kurang lebih memiliki arti (posisi, nilai data, lebar, dan nama label)."
      ],
      "metadata": {
        "id": "T2lkwlmuUQ90"
      }
    },
    {
      "cell_type": "code",
      "source": [
        "width = 0.35\n",
        "\n",
        "plt.bar(x-width/2, data1, width, label='Data 1')\n",
        "plt.bar(x+width/2, data2, width, label='Data 2')\n",
        "\n",
        "plt.xticks(x, kategori) \n",
        "\n",
        "plt.grid(linestyle='--', \n",
        "         linewidth=1, \n",
        "         axis='y',\n",
        "         alpha=0.75)\n",
        "\n",
        "plt.xlabel('Kategori')\n",
        "plt.ylabel('Jumlah')\n",
        "plt.title('Contoh Grouped Bar Plot')\n",
        "\n",
        "plt.legend()\n",
        "plt.show()"
      ],
      "metadata": {
        "colab": {
          "base_uri": "https://localhost:8080/",
          "height": 295
        },
        "id": "p1hyMYwTUVD4",
        "outputId": "8734b88b-ae6d-4145-bac2-bbcf3107bc08"
      },
      "execution_count": 12,
      "outputs": [
        {
          "output_type": "display_data",
          "data": {
            "text/plain": [
              "<Figure size 432x288 with 1 Axes>"
            ],
            "image/png": "[encoded data removed]"
          },
          "metadata": {
            "needs_background": "light"
          }
        }
      ]
    },
    {
      "cell_type": "markdown",
      "source": [
        "#Matplotlib 06 : Belajar Pie Plot | Pie Chart\n",
        "\n",
        "Import Modules"
      ],
      "metadata": {
        "id": "MPQDClBcUY1f"
      }
    },
    {
      "cell_type": "code",
      "source": [
        "%matplotlib inline"
      ],
      "metadata": {
        "id": "dnUbontZUvCz"
      },
      "execution_count": 13,
      "outputs": []
    },
    {
      "cell_type": "code",
      "source": [
        "import matplotlib\n",
        "import matplotlib.pyplot as plt\n",
        "\n",
        "print(matplotlib.__version__)"
      ],
      "metadata": {
        "colab": {
          "base_uri": "https://localhost:8080/"
        },
        "id": "5_9bbLSOUzaB",
        "outputId": "b4a65ce2-a285-4a15-f00a-2199a2f82bea"
      },
      "execution_count": 14,
      "outputs": [
        {
          "output_type": "stream",
          "name": "stdout",
          "text": [
            "3.2.2\n"
          ]
        }
      ]
    },
    {
      "cell_type": "markdown",
      "source": [
        "Simple Pie Plot\n",
        "- Untuk membuat pie plot kita dapat menggunakan fungsi plt.pie()."
      ],
      "metadata": {
        "id": "ht7nbcPgU3g0"
      }
    },
    {
      "cell_type": "code",
      "source": [
        "kategori = ['A', 'B', 'C', 'D', 'E']\n",
        "data = [215, 130, 245, 210, 225]"
      ],
      "metadata": {
        "id": "CcCGX2FjU6lv"
      },
      "execution_count": 15,
      "outputs": []
    },
    {
      "cell_type": "code",
      "source": [
        "plt.pie(data, # wajib\n",
        "        labels=kategori, # label\n",
        "        autopct='%1.1f%%', # menampilkan persentase\n",
        "        startangle=90) # mengatur rotaso\n",
        "\n",
        "plt.title('Contoh Pie Plot')\n",
        "\n",
        "plt.show()"
      ],
      "metadata": {
        "colab": {
          "base_uri": "https://localhost:8080/",
          "height": 264
        },
        "id": "7yzQ7E44U9by",
        "outputId": "b26895e5-14bd-4591-a1d6-f1482fa9fac5"
      },
      "execution_count": 16,
      "outputs": [
        {
          "output_type": "display_data",
          "data": {
            "text/plain": [
              "<Figure size 432x288 with 1 Axes>"
            ],
            "image/png": "[encoded data removed]"
          },
          "metadata": {}
        }
      ]
    },
    {
      "cell_type": "markdown",
      "source": [
        "Pengaturan Legend dan Color"
      ],
      "metadata": {
        "id": "0_1nB2NgVcn1"
      }
    },
    {
      "cell_type": "code",
      "source": [
        "kategori = ['A', 'B', 'C', 'D', 'E']\n",
        "data = [215, 130, 245, 210, 225]\n",
        "warna = ['pink', 'cyan', '#e03364', 'yellowgreen', 'skyblue'] # menggunakan str"
      ],
      "metadata": {
        "id": "Bt21IQBJVgi_"
      },
      "execution_count": 17,
      "outputs": []
    },
    {
      "cell_type": "code",
      "source": [
        "plt.pie(data, \n",
        "        labels=kategori,\n",
        "        colors=warna, \n",
        "        autopct='%1.1f%%',\n",
        "        startangle=90)\n",
        "\n",
        "plt.legend() # legend\n",
        "plt.title('Contoh Pie Plot')\n",
        "\n",
        "plt.show()"
      ],
      "metadata": {
        "colab": {
          "base_uri": "https://localhost:8080/",
          "height": 264
        },
        "id": "PgrqKV9qVk28",
        "outputId": "55017ffc-7154-431a-df75-ae891eee226b"
      },
      "execution_count": 18,
      "outputs": [
        {
          "output_type": "display_data",
          "data": {
            "text/plain": [
              "<Figure size 432x288 with 1 Axes>"
            ],
            "image/png": "[encoded data removed]"
          },
          "metadata": {}
        }
      ]
    },
    {
      "cell_type": "markdown",
      "source": [
        "Exploded Pie Plot\n",
        "\n",
        "- Exploded pie plot berarti ada bagian yang ditarik keluar.\n",
        "- Semakin besar explode_car semakin jauh juga potongannya."
      ],
      "metadata": {
        "id": "DRoz-czSVqQq"
      }
    },
    {
      "cell_type": "code",
      "source": [
        "kategori = ['A', 'B', 'C', 'D', 'E']\n",
        "data = [215, 130, 245, 210, 225]\n",
        "warna = ['pink', 'cyan', '#e03364', 'yellowgreen', 'skyblue']\n",
        "explode_var = [0., 0., 0.2, 0., 0.08] # 0 Tidak ditarik keluar"
      ],
      "metadata": {
        "id": "4pQq43QuV3Mb"
      },
      "execution_count": 20,
      "outputs": []
    },
    {
      "cell_type": "code",
      "source": [
        "plt.pie(data, \n",
        "        labels=kategori,\n",
        "        colors=warna,\n",
        "        explode=explode_var, # mengatur jarak\n",
        "        autopct='%1.1f%%',\n",
        "        startangle=90)\n",
        "\n",
        "plt.title('Contoh Exploded Pie Plot')\n",
        "\n",
        "plt.show()"
      ],
      "metadata": {
        "colab": {
          "base_uri": "https://localhost:8080/",
          "height": 269
        },
        "id": "2lwyumLgWApe",
        "outputId": "e665d634-6ee5-458c-c3c3-2a555bbc23c7"
      },
      "execution_count": 21,
      "outputs": [
        {
          "output_type": "display_data",
          "data": {
            "text/plain": [
              "<Figure size 432x288 with 1 Axes>"
            ],
            "image/png": "[encoded data removed]"
          },
          "metadata": {}
        }
      ]
    },
    {
      "cell_type": "markdown",
      "source": [
        "#Matplolib 07 : Belajar Table Plot | Table Chart\n",
        "\n",
        "Import Modules"
      ],
      "metadata": {
        "id": "-a5lRfgMWEhJ"
      }
    },
    {
      "cell_type": "code",
      "source": [
        "%matplotlib inline"
      ],
      "metadata": {
        "id": "AUAX-mGAWXmr"
      },
      "execution_count": 22,
      "outputs": []
    },
    {
      "cell_type": "code",
      "source": [
        "import matplotlib\n",
        "import matplotlib.pyplot as plt\n",
        "import numpy as np\n",
        "\n",
        "print(matplotlib.__version__)\n",
        "print(np.__version__)"
      ],
      "metadata": {
        "colab": {
          "base_uri": "https://localhost:8080/"
        },
        "id": "KlUC173pWbd6",
        "outputId": "7de0dffc-ddd3-49fa-c0fc-1ef61a2ca8ce"
      },
      "execution_count": 23,
      "outputs": [
        {
          "output_type": "stream",
          "name": "stdout",
          "text": [
            "3.2.2\n",
            "1.21.6\n"
          ]
        }
      ]
    },
    {
      "cell_type": "markdown",
      "source": [
        "Sample Data\n",
        "\n",
        "- Membuat list 2 Dimensi"
      ],
      "metadata": {
        "id": "BkOx94tGWe6x"
      }
    },
    {
      "cell_type": "code",
      "source": [
        "data_uas=[\n",
        "    ['Bejo', 70],\n",
        "    ['Tejo', 83],\n",
        "    ['Cecep', 62],\n",
        "    ['Wati', 74],\n",
        "    ['Karti', 71]\n",
        "]\n",
        "\n",
        "data_uas"
      ],
      "metadata": {
        "colab": {
          "base_uri": "https://localhost:8080/"
        },
        "id": "ndU7BW4sWlHD",
        "outputId": "2dcdcaed-b5a7-4548-e384-2c2fad25c6ce"
      },
      "execution_count": 24,
      "outputs": [
        {
          "output_type": "execute_result",
          "data": {
            "text/plain": [
              "[['Bejo', 70], ['Tejo', 83], ['Cecep', 62], ['Wati', 74], ['Karti', 71]]"
            ]
          },
          "metadata": {},
          "execution_count": 24
        }
      ]
    },
    {
      "cell_type": "markdown",
      "source": [
        "Table Plot dengan OO Style\n",
        "\n",
        "- Data tabular yang ditampilkan tidak dalam format dataframe, melainkan menggunakan figure dan axes.\n",
        "- Pemanggilan fungsi plt.table() membutuhkan dua parameter.\n",
        "- Parameter pertama yaitu celltext berisi data uas.\n",
        "- Parameter kedua yaitu loc/location merupakan Penempatan tabel plot."
      ],
      "metadata": {
        "id": "ahiFcuOsWn0_"
      }
    },
    {
      "cell_type": "code",
      "source": [
        "fig, ax = plt.subplots()\n",
        "\n",
        "table = plt.table(cellText=data_uas, \n",
        "                  loc='center')\n",
        "\n",
        "# atribut \n",
        "table.set_fontsize(14) # ukuran huruf\n",
        "table.scale(1, 4) # ukuran kolom, baris\n",
        "\n",
        "ax.axis(False) # untuk meniadakan axis\n",
        "\n",
        "plt.show()"
      ],
      "metadata": {
        "colab": {
          "base_uri": "https://localhost:8080/",
          "height": 271
        },
        "id": "WF_YuLndW0KZ",
        "outputId": "0d14d5ac-5e69-4e93-c839-ee13abe194ec"
      },
      "execution_count": 25,
      "outputs": [
        {
          "output_type": "display_data",
          "data": {
            "text/plain": [
              "<Figure size 432x288 with 1 Axes>"
            ],
            "image/png": "[encoded data removed]"
          },
          "metadata": {
            "needs_background": "light"
          }
        }
      ]
    },
    {
      "cell_type": "markdown",
      "source": [
        "Table Plot dengan pyplot Style\n",
        "\n",
        "- Axis merupakan bagian dari axes dan jika kita tidak mendeklarasikan axes, maka kita tidak bisa men-disable axis.\n",
        "- Fungsi plt.gca() (get current access) dapat mendapatkan referensi ke objek yang sedang aktif."
      ],
      "metadata": {
        "id": "rZ3Bjv5KW66w"
      }
    },
    {
      "cell_type": "code",
      "source": [
        "table = plt.table(cellText=data_uas, \n",
        "                  loc='center')\n",
        "\n",
        "table.set_fontsize(14)\n",
        "table.scale(1, 4) # ukuran kolom, baris\n",
        "\n",
        "# disable axis\n",
        "ax = plt.gca()\n",
        "ax.axis(False)\n",
        "\n",
        "plt.show()"
      ],
      "metadata": {
        "colab": {
          "base_uri": "https://localhost:8080/",
          "height": 271
        },
        "id": "gcsamk2wXIcZ",
        "outputId": "2753b6e1-c798-44d4-e73b-9a183626b76a"
      },
      "execution_count": 26,
      "outputs": [
        {
          "output_type": "display_data",
          "data": {
            "text/plain": [
              "<Figure size 432x288 with 1 Axes>"
            ],
            "image/png": "[encoded data removed]"
          },
          "metadata": {
            "needs_background": "light"
          }
        }
      ]
    }
  ]
}